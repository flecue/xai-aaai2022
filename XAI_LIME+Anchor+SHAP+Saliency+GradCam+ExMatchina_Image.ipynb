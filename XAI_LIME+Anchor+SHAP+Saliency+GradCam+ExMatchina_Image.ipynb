{
  "nbformat": 4,
  "nbformat_minor": 0,
  "metadata": {
    "accelerator": "GPU",
    "colab": {
      "name": "XAI_LIME+Anchor+SHAP+Saliency+GradCam+ExMatchina_Image.ipynb",
      "provenance": [],
      "collapsed_sections": [],
      "toc_visible": true,
      "include_colab_link": true
    },
    "kernelspec": {
      "display_name": "Python 3",
      "language": "python",
      "name": "python3"
    },
    "language_info": {
      "codemirror_mode": {
        "name": "ipython",
        "version": 3
      },
      "file_extension": ".py",
      "mimetype": "text/x-python",
      "name": "python",
      "nbconvert_exporter": "python",
      "pygments_lexer": "ipython3",
      "version": "3.7.7"
    },
    "widgets": {
      "application/vnd.jupyter.widget-state+json": {
        "cb9ea2386fa942629d563af7e5ee3fc6": {
          "model_module": "@jupyter-widgets/controls",
          "model_name": "HBoxModel",
          "state": {
            "_view_name": "HBoxView",
            "_dom_classes": [],
            "_model_name": "HBoxModel",
            "_view_module": "@jupyter-widgets/controls",
            "_model_module_version": "1.5.0",
            "_view_count": null,
            "_view_module_version": "1.5.0",
            "box_style": "",
            "layout": "IPY_MODEL_0abdc898136949a9858c9cebb0be15db",
            "_model_module": "@jupyter-widgets/controls",
            "children": [
              "IPY_MODEL_0c9d6640b82945bbb3b576c1c48eba8f",
              "IPY_MODEL_be45d4f5d82b42de8666d4d5790238a4"
            ]
          }
        },
        "0abdc898136949a9858c9cebb0be15db": {
          "model_module": "@jupyter-widgets/base",
          "model_name": "LayoutModel",
          "state": {
            "_view_name": "LayoutView",
            "grid_template_rows": null,
            "right": null,
            "justify_content": null,
            "_view_module": "@jupyter-widgets/base",
            "overflow": null,
            "_model_module_version": "1.2.0",
            "_view_count": null,
            "flex_flow": null,
            "width": null,
            "min_width": null,
            "border": null,
            "align_items": null,
            "bottom": null,
            "_model_module": "@jupyter-widgets/base",
            "top": null,
            "grid_column": null,
            "overflow_y": null,
            "overflow_x": null,
            "grid_auto_flow": null,
            "grid_area": null,
            "grid_template_columns": null,
            "flex": null,
            "_model_name": "LayoutModel",
            "justify_items": null,
            "grid_row": null,
            "max_height": null,
            "align_content": null,
            "visibility": null,
            "align_self": null,
            "height": null,
            "min_height": null,
            "padding": null,
            "grid_auto_rows": null,
            "grid_gap": null,
            "max_width": null,
            "order": null,
            "_view_module_version": "1.2.0",
            "grid_template_areas": null,
            "object_position": null,
            "object_fit": null,
            "grid_auto_columns": null,
            "margin": null,
            "display": null,
            "left": null
          }
        },
        "0c9d6640b82945bbb3b576c1c48eba8f": {
          "model_module": "@jupyter-widgets/controls",
          "model_name": "FloatProgressModel",
          "state": {
            "_view_name": "ProgressView",
            "style": "IPY_MODEL_acc788b4ae524b10b9af778c1c38aa1d",
            "_dom_classes": [],
            "description": "100%",
            "_model_name": "FloatProgressModel",
            "bar_style": "success",
            "max": 1000,
            "_view_module": "@jupyter-widgets/controls",
            "_model_module_version": "1.5.0",
            "value": 1000,
            "_view_count": null,
            "_view_module_version": "1.5.0",
            "orientation": "horizontal",
            "min": 0,
            "description_tooltip": null,
            "_model_module": "@jupyter-widgets/controls",
            "layout": "IPY_MODEL_cf5e699a195b4257b1ab78bfa13b315a"
          }
        },
        "be45d4f5d82b42de8666d4d5790238a4": {
          "model_module": "@jupyter-widgets/controls",
          "model_name": "HTMLModel",
          "state": {
            "_view_name": "HTMLView",
            "style": "IPY_MODEL_2e6918a20b744ec8bca66a312ac3b329",
            "_dom_classes": [],
            "description": "",
            "_model_name": "HTMLModel",
            "placeholder": "​",
            "_view_module": "@jupyter-widgets/controls",
            "_model_module_version": "1.5.0",
            "value": " 1000/1000 [00:03&lt;00:00, 275.64it/s]",
            "_view_count": null,
            "_view_module_version": "1.5.0",
            "description_tooltip": null,
            "_model_module": "@jupyter-widgets/controls",
            "layout": "IPY_MODEL_ce24184cc24f459b9202701b7029f8f1"
          }
        },
        "acc788b4ae524b10b9af778c1c38aa1d": {
          "model_module": "@jupyter-widgets/controls",
          "model_name": "ProgressStyleModel",
          "state": {
            "_view_name": "StyleView",
            "_model_name": "ProgressStyleModel",
            "description_width": "initial",
            "_view_module": "@jupyter-widgets/base",
            "_model_module_version": "1.5.0",
            "_view_count": null,
            "_view_module_version": "1.2.0",
            "bar_color": null,
            "_model_module": "@jupyter-widgets/controls"
          }
        },
        "cf5e699a195b4257b1ab78bfa13b315a": {
          "model_module": "@jupyter-widgets/base",
          "model_name": "LayoutModel",
          "state": {
            "_view_name": "LayoutView",
            "grid_template_rows": null,
            "right": null,
            "justify_content": null,
            "_view_module": "@jupyter-widgets/base",
            "overflow": null,
            "_model_module_version": "1.2.0",
            "_view_count": null,
            "flex_flow": null,
            "width": null,
            "min_width": null,
            "border": null,
            "align_items": null,
            "bottom": null,
            "_model_module": "@jupyter-widgets/base",
            "top": null,
            "grid_column": null,
            "overflow_y": null,
            "overflow_x": null,
            "grid_auto_flow": null,
            "grid_area": null,
            "grid_template_columns": null,
            "flex": null,
            "_model_name": "LayoutModel",
            "justify_items": null,
            "grid_row": null,
            "max_height": null,
            "align_content": null,
            "visibility": null,
            "align_self": null,
            "height": null,
            "min_height": null,
            "padding": null,
            "grid_auto_rows": null,
            "grid_gap": null,
            "max_width": null,
            "order": null,
            "_view_module_version": "1.2.0",
            "grid_template_areas": null,
            "object_position": null,
            "object_fit": null,
            "grid_auto_columns": null,
            "margin": null,
            "display": null,
            "left": null
          }
        },
        "2e6918a20b744ec8bca66a312ac3b329": {
          "model_module": "@jupyter-widgets/controls",
          "model_name": "DescriptionStyleModel",
          "state": {
            "_view_name": "StyleView",
            "_model_name": "DescriptionStyleModel",
            "description_width": "",
            "_view_module": "@jupyter-widgets/base",
            "_model_module_version": "1.5.0",
            "_view_count": null,
            "_view_module_version": "1.2.0",
            "_model_module": "@jupyter-widgets/controls"
          }
        },
        "ce24184cc24f459b9202701b7029f8f1": {
          "model_module": "@jupyter-widgets/base",
          "model_name": "LayoutModel",
          "state": {
            "_view_name": "LayoutView",
            "grid_template_rows": null,
            "right": null,
            "justify_content": null,
            "_view_module": "@jupyter-widgets/base",
            "overflow": null,
            "_model_module_version": "1.2.0",
            "_view_count": null,
            "flex_flow": null,
            "width": null,
            "min_width": null,
            "border": null,
            "align_items": null,
            "bottom": null,
            "_model_module": "@jupyter-widgets/base",
            "top": null,
            "grid_column": null,
            "overflow_y": null,
            "overflow_x": null,
            "grid_auto_flow": null,
            "grid_area": null,
            "grid_template_columns": null,
            "flex": null,
            "_model_name": "LayoutModel",
            "justify_items": null,
            "grid_row": null,
            "max_height": null,
            "align_content": null,
            "visibility": null,
            "align_self": null,
            "height": null,
            "min_height": null,
            "padding": null,
            "grid_auto_rows": null,
            "grid_gap": null,
            "max_width": null,
            "order": null,
            "_view_module_version": "1.2.0",
            "grid_template_areas": null,
            "object_position": null,
            "object_fit": null,
            "grid_auto_columns": null,
            "margin": null,
            "display": null,
            "left": null
          }
        },
        "b3df658725084f44a8ba66ae793af93d": {
          "model_module": "@jupyter-widgets/controls",
          "model_name": "HBoxModel",
          "state": {
            "_view_name": "HBoxView",
            "_dom_classes": [],
            "_model_name": "HBoxModel",
            "_view_module": "@jupyter-widgets/controls",
            "_model_module_version": "1.5.0",
            "_view_count": null,
            "_view_module_version": "1.5.0",
            "box_style": "",
            "layout": "IPY_MODEL_52386daf81054bd48b20b796c44cdcb8",
            "_model_module": "@jupyter-widgets/controls",
            "children": [
              "IPY_MODEL_bc57f8939cd94446a07d77e766893b95",
              "IPY_MODEL_318b72b595c8474ca3fa537153fd2aea"
            ]
          }
        },
        "52386daf81054bd48b20b796c44cdcb8": {
          "model_module": "@jupyter-widgets/base",
          "model_name": "LayoutModel",
          "state": {
            "_view_name": "LayoutView",
            "grid_template_rows": null,
            "right": null,
            "justify_content": null,
            "_view_module": "@jupyter-widgets/base",
            "overflow": null,
            "_model_module_version": "1.2.0",
            "_view_count": null,
            "flex_flow": null,
            "width": null,
            "min_width": null,
            "border": null,
            "align_items": null,
            "bottom": null,
            "_model_module": "@jupyter-widgets/base",
            "top": null,
            "grid_column": null,
            "overflow_y": null,
            "overflow_x": null,
            "grid_auto_flow": null,
            "grid_area": null,
            "grid_template_columns": null,
            "flex": null,
            "_model_name": "LayoutModel",
            "justify_items": null,
            "grid_row": null,
            "max_height": null,
            "align_content": null,
            "visibility": null,
            "align_self": null,
            "height": null,
            "min_height": null,
            "padding": null,
            "grid_auto_rows": null,
            "grid_gap": null,
            "max_width": null,
            "order": null,
            "_view_module_version": "1.2.0",
            "grid_template_areas": null,
            "object_position": null,
            "object_fit": null,
            "grid_auto_columns": null,
            "margin": null,
            "display": null,
            "left": null
          }
        },
        "bc57f8939cd94446a07d77e766893b95": {
          "model_module": "@jupyter-widgets/controls",
          "model_name": "FloatProgressModel",
          "state": {
            "_view_name": "ProgressView",
            "style": "IPY_MODEL_6c2de3bc46f44c2bb2a8bbb9ddcf6b1e",
            "_dom_classes": [],
            "description": "100%",
            "_model_name": "FloatProgressModel",
            "bar_style": "success",
            "max": 1000,
            "_view_module": "@jupyter-widgets/controls",
            "_model_module_version": "1.5.0",
            "value": 1000,
            "_view_count": null,
            "_view_module_version": "1.5.0",
            "orientation": "horizontal",
            "min": 0,
            "description_tooltip": null,
            "_model_module": "@jupyter-widgets/controls",
            "layout": "IPY_MODEL_a6b25cb995a3465c8f6898cdeb833204"
          }
        },
        "318b72b595c8474ca3fa537153fd2aea": {
          "model_module": "@jupyter-widgets/controls",
          "model_name": "HTMLModel",
          "state": {
            "_view_name": "HTMLView",
            "style": "IPY_MODEL_6dc715513bdb40ae81d5265d61d15e6d",
            "_dom_classes": [],
            "description": "",
            "_model_name": "HTMLModel",
            "placeholder": "​",
            "_view_module": "@jupyter-widgets/controls",
            "_model_module_version": "1.5.0",
            "value": " 1000/1000 [00:03&lt;00:00, 292.31it/s]",
            "_view_count": null,
            "_view_module_version": "1.5.0",
            "description_tooltip": null,
            "_model_module": "@jupyter-widgets/controls",
            "layout": "IPY_MODEL_341c213fcc454c12af287d5c1baa1be0"
          }
        },
        "6c2de3bc46f44c2bb2a8bbb9ddcf6b1e": {
          "model_module": "@jupyter-widgets/controls",
          "model_name": "ProgressStyleModel",
          "state": {
            "_view_name": "StyleView",
            "_model_name": "ProgressStyleModel",
            "description_width": "initial",
            "_view_module": "@jupyter-widgets/base",
            "_model_module_version": "1.5.0",
            "_view_count": null,
            "_view_module_version": "1.2.0",
            "bar_color": null,
            "_model_module": "@jupyter-widgets/controls"
          }
        },
        "a6b25cb995a3465c8f6898cdeb833204": {
          "model_module": "@jupyter-widgets/base",
          "model_name": "LayoutModel",
          "state": {
            "_view_name": "LayoutView",
            "grid_template_rows": null,
            "right": null,
            "justify_content": null,
            "_view_module": "@jupyter-widgets/base",
            "overflow": null,
            "_model_module_version": "1.2.0",
            "_view_count": null,
            "flex_flow": null,
            "width": null,
            "min_width": null,
            "border": null,
            "align_items": null,
            "bottom": null,
            "_model_module": "@jupyter-widgets/base",
            "top": null,
            "grid_column": null,
            "overflow_y": null,
            "overflow_x": null,
            "grid_auto_flow": null,
            "grid_area": null,
            "grid_template_columns": null,
            "flex": null,
            "_model_name": "LayoutModel",
            "justify_items": null,
            "grid_row": null,
            "max_height": null,
            "align_content": null,
            "visibility": null,
            "align_self": null,
            "height": null,
            "min_height": null,
            "padding": null,
            "grid_auto_rows": null,
            "grid_gap": null,
            "max_width": null,
            "order": null,
            "_view_module_version": "1.2.0",
            "grid_template_areas": null,
            "object_position": null,
            "object_fit": null,
            "grid_auto_columns": null,
            "margin": null,
            "display": null,
            "left": null
          }
        },
        "6dc715513bdb40ae81d5265d61d15e6d": {
          "model_module": "@jupyter-widgets/controls",
          "model_name": "DescriptionStyleModel",
          "state": {
            "_view_name": "StyleView",
            "_model_name": "DescriptionStyleModel",
            "description_width": "",
            "_view_module": "@jupyter-widgets/base",
            "_model_module_version": "1.5.0",
            "_view_count": null,
            "_view_module_version": "1.2.0",
            "_model_module": "@jupyter-widgets/controls"
          }
        },
        "341c213fcc454c12af287d5c1baa1be0": {
          "model_module": "@jupyter-widgets/base",
          "model_name": "LayoutModel",
          "state": {
            "_view_name": "LayoutView",
            "grid_template_rows": null,
            "right": null,
            "justify_content": null,
            "_view_module": "@jupyter-widgets/base",
            "overflow": null,
            "_model_module_version": "1.2.0",
            "_view_count": null,
            "flex_flow": null,
            "width": null,
            "min_width": null,
            "border": null,
            "align_items": null,
            "bottom": null,
            "_model_module": "@jupyter-widgets/base",
            "top": null,
            "grid_column": null,
            "overflow_y": null,
            "overflow_x": null,
            "grid_auto_flow": null,
            "grid_area": null,
            "grid_template_columns": null,
            "flex": null,
            "_model_name": "LayoutModel",
            "justify_items": null,
            "grid_row": null,
            "max_height": null,
            "align_content": null,
            "visibility": null,
            "align_self": null,
            "height": null,
            "min_height": null,
            "padding": null,
            "grid_auto_rows": null,
            "grid_gap": null,
            "max_width": null,
            "order": null,
            "_view_module_version": "1.2.0",
            "grid_template_areas": null,
            "object_position": null,
            "object_fit": null,
            "grid_auto_columns": null,
            "margin": null,
            "display": null,
            "left": null
          }
        },
        "12f0e5bd66ca4c88b9b41722dd6f507c": {
          "model_module": "@jupyter-widgets/controls",
          "model_name": "HBoxModel",
          "state": {
            "_view_name": "HBoxView",
            "_dom_classes": [],
            "_model_name": "HBoxModel",
            "_view_module": "@jupyter-widgets/controls",
            "_model_module_version": "1.5.0",
            "_view_count": null,
            "_view_module_version": "1.5.0",
            "box_style": "",
            "layout": "IPY_MODEL_11c3ecff455f43ce802c7d7d3b39978a",
            "_model_module": "@jupyter-widgets/controls",
            "children": [
              "IPY_MODEL_d1dbaca066914f53972a9046ae85020c",
              "IPY_MODEL_f4514b21f7d049ea9545cacceac05eb6"
            ]
          }
        },
        "11c3ecff455f43ce802c7d7d3b39978a": {
          "model_module": "@jupyter-widgets/base",
          "model_name": "LayoutModel",
          "state": {
            "_view_name": "LayoutView",
            "grid_template_rows": null,
            "right": null,
            "justify_content": null,
            "_view_module": "@jupyter-widgets/base",
            "overflow": null,
            "_model_module_version": "1.2.0",
            "_view_count": null,
            "flex_flow": null,
            "width": null,
            "min_width": null,
            "border": null,
            "align_items": null,
            "bottom": null,
            "_model_module": "@jupyter-widgets/base",
            "top": null,
            "grid_column": null,
            "overflow_y": null,
            "overflow_x": null,
            "grid_auto_flow": null,
            "grid_area": null,
            "grid_template_columns": null,
            "flex": null,
            "_model_name": "LayoutModel",
            "justify_items": null,
            "grid_row": null,
            "max_height": null,
            "align_content": null,
            "visibility": null,
            "align_self": null,
            "height": null,
            "min_height": null,
            "padding": null,
            "grid_auto_rows": null,
            "grid_gap": null,
            "max_width": null,
            "order": null,
            "_view_module_version": "1.2.0",
            "grid_template_areas": null,
            "object_position": null,
            "object_fit": null,
            "grid_auto_columns": null,
            "margin": null,
            "display": null,
            "left": null
          }
        },
        "d1dbaca066914f53972a9046ae85020c": {
          "model_module": "@jupyter-widgets/controls",
          "model_name": "FloatProgressModel",
          "state": {
            "_view_name": "ProgressView",
            "style": "IPY_MODEL_a561822d0f854543896f60ff14fc7fe0",
            "_dom_classes": [],
            "description": "100%",
            "_model_name": "FloatProgressModel",
            "bar_style": "success",
            "max": 1000,
            "_view_module": "@jupyter-widgets/controls",
            "_model_module_version": "1.5.0",
            "value": 1000,
            "_view_count": null,
            "_view_module_version": "1.5.0",
            "orientation": "horizontal",
            "min": 0,
            "description_tooltip": null,
            "_model_module": "@jupyter-widgets/controls",
            "layout": "IPY_MODEL_1e8511160960421d88856570b012b520"
          }
        },
        "f4514b21f7d049ea9545cacceac05eb6": {
          "model_module": "@jupyter-widgets/controls",
          "model_name": "HTMLModel",
          "state": {
            "_view_name": "HTMLView",
            "style": "IPY_MODEL_fecc2b56dc8a462a8179f3963cf0cd08",
            "_dom_classes": [],
            "description": "",
            "_model_name": "HTMLModel",
            "placeholder": "​",
            "_view_module": "@jupyter-widgets/controls",
            "_model_module_version": "1.5.0",
            "value": " 1000/1000 [00:03&lt;00:00, 296.21it/s]",
            "_view_count": null,
            "_view_module_version": "1.5.0",
            "description_tooltip": null,
            "_model_module": "@jupyter-widgets/controls",
            "layout": "IPY_MODEL_9cdb2ce0172f4f44825da919e41e6ef8"
          }
        },
        "a561822d0f854543896f60ff14fc7fe0": {
          "model_module": "@jupyter-widgets/controls",
          "model_name": "ProgressStyleModel",
          "state": {
            "_view_name": "StyleView",
            "_model_name": "ProgressStyleModel",
            "description_width": "initial",
            "_view_module": "@jupyter-widgets/base",
            "_model_module_version": "1.5.0",
            "_view_count": null,
            "_view_module_version": "1.2.0",
            "bar_color": null,
            "_model_module": "@jupyter-widgets/controls"
          }
        },
        "1e8511160960421d88856570b012b520": {
          "model_module": "@jupyter-widgets/base",
          "model_name": "LayoutModel",
          "state": {
            "_view_name": "LayoutView",
            "grid_template_rows": null,
            "right": null,
            "justify_content": null,
            "_view_module": "@jupyter-widgets/base",
            "overflow": null,
            "_model_module_version": "1.2.0",
            "_view_count": null,
            "flex_flow": null,
            "width": null,
            "min_width": null,
            "border": null,
            "align_items": null,
            "bottom": null,
            "_model_module": "@jupyter-widgets/base",
            "top": null,
            "grid_column": null,
            "overflow_y": null,
            "overflow_x": null,
            "grid_auto_flow": null,
            "grid_area": null,
            "grid_template_columns": null,
            "flex": null,
            "_model_name": "LayoutModel",
            "justify_items": null,
            "grid_row": null,
            "max_height": null,
            "align_content": null,
            "visibility": null,
            "align_self": null,
            "height": null,
            "min_height": null,
            "padding": null,
            "grid_auto_rows": null,
            "grid_gap": null,
            "max_width": null,
            "order": null,
            "_view_module_version": "1.2.0",
            "grid_template_areas": null,
            "object_position": null,
            "object_fit": null,
            "grid_auto_columns": null,
            "margin": null,
            "display": null,
            "left": null
          }
        },
        "fecc2b56dc8a462a8179f3963cf0cd08": {
          "model_module": "@jupyter-widgets/controls",
          "model_name": "DescriptionStyleModel",
          "state": {
            "_view_name": "StyleView",
            "_model_name": "DescriptionStyleModel",
            "description_width": "",
            "_view_module": "@jupyter-widgets/base",
            "_model_module_version": "1.5.0",
            "_view_count": null,
            "_view_module_version": "1.2.0",
            "_model_module": "@jupyter-widgets/controls"
          }
        },
        "9cdb2ce0172f4f44825da919e41e6ef8": {
          "model_module": "@jupyter-widgets/base",
          "model_name": "LayoutModel",
          "state": {
            "_view_name": "LayoutView",
            "grid_template_rows": null,
            "right": null,
            "justify_content": null,
            "_view_module": "@jupyter-widgets/base",
            "overflow": null,
            "_model_module_version": "1.2.0",
            "_view_count": null,
            "flex_flow": null,
            "width": null,
            "min_width": null,
            "border": null,
            "align_items": null,
            "bottom": null,
            "_model_module": "@jupyter-widgets/base",
            "top": null,
            "grid_column": null,
            "overflow_y": null,
            "overflow_x": null,
            "grid_auto_flow": null,
            "grid_area": null,
            "grid_template_columns": null,
            "flex": null,
            "_model_name": "LayoutModel",
            "justify_items": null,
            "grid_row": null,
            "max_height": null,
            "align_content": null,
            "visibility": null,
            "align_self": null,
            "height": null,
            "min_height": null,
            "padding": null,
            "grid_auto_rows": null,
            "grid_gap": null,
            "max_width": null,
            "order": null,
            "_view_module_version": "1.2.0",
            "grid_template_areas": null,
            "object_position": null,
            "object_fit": null,
            "grid_auto_columns": null,
            "margin": null,
            "display": null,
            "left": null
          }
        },
        "88806efa777342e8ba86bc65f765e98b": {
          "model_module": "@jupyter-widgets/controls",
          "model_name": "HBoxModel",
          "state": {
            "_view_name": "HBoxView",
            "_dom_classes": [],
            "_model_name": "HBoxModel",
            "_view_module": "@jupyter-widgets/controls",
            "_model_module_version": "1.5.0",
            "_view_count": null,
            "_view_module_version": "1.5.0",
            "box_style": "",
            "layout": "IPY_MODEL_cbb43e281e234006923a20b17d0c199d",
            "_model_module": "@jupyter-widgets/controls",
            "children": [
              "IPY_MODEL_b4491b5e9e014e898675c977034d2b94",
              "IPY_MODEL_ecfc43b5487545d788b2cfb8aa830c90"
            ]
          }
        },
        "cbb43e281e234006923a20b17d0c199d": {
          "model_module": "@jupyter-widgets/base",
          "model_name": "LayoutModel",
          "state": {
            "_view_name": "LayoutView",
            "grid_template_rows": null,
            "right": null,
            "justify_content": null,
            "_view_module": "@jupyter-widgets/base",
            "overflow": null,
            "_model_module_version": "1.2.0",
            "_view_count": null,
            "flex_flow": null,
            "width": null,
            "min_width": null,
            "border": null,
            "align_items": null,
            "bottom": null,
            "_model_module": "@jupyter-widgets/base",
            "top": null,
            "grid_column": null,
            "overflow_y": null,
            "overflow_x": null,
            "grid_auto_flow": null,
            "grid_area": null,
            "grid_template_columns": null,
            "flex": null,
            "_model_name": "LayoutModel",
            "justify_items": null,
            "grid_row": null,
            "max_height": null,
            "align_content": null,
            "visibility": null,
            "align_self": null,
            "height": null,
            "min_height": null,
            "padding": null,
            "grid_auto_rows": null,
            "grid_gap": null,
            "max_width": null,
            "order": null,
            "_view_module_version": "1.2.0",
            "grid_template_areas": null,
            "object_position": null,
            "object_fit": null,
            "grid_auto_columns": null,
            "margin": null,
            "display": null,
            "left": null
          }
        },
        "b4491b5e9e014e898675c977034d2b94": {
          "model_module": "@jupyter-widgets/controls",
          "model_name": "FloatProgressModel",
          "state": {
            "_view_name": "ProgressView",
            "style": "IPY_MODEL_7b5044eae7764fff966136266a6d7db3",
            "_dom_classes": [],
            "description": "100%",
            "_model_name": "FloatProgressModel",
            "bar_style": "success",
            "max": 1000,
            "_view_module": "@jupyter-widgets/controls",
            "_model_module_version": "1.5.0",
            "value": 1000,
            "_view_count": null,
            "_view_module_version": "1.5.0",
            "orientation": "horizontal",
            "min": 0,
            "description_tooltip": null,
            "_model_module": "@jupyter-widgets/controls",
            "layout": "IPY_MODEL_9179bf8c20ef48a7a4cb659edf855abf"
          }
        },
        "ecfc43b5487545d788b2cfb8aa830c90": {
          "model_module": "@jupyter-widgets/controls",
          "model_name": "HTMLModel",
          "state": {
            "_view_name": "HTMLView",
            "style": "IPY_MODEL_a6d86f4e086f4bbb9868c1a8b37801f3",
            "_dom_classes": [],
            "description": "",
            "_model_name": "HTMLModel",
            "placeholder": "​",
            "_view_module": "@jupyter-widgets/controls",
            "_model_module_version": "1.5.0",
            "value": " 1000/1000 [00:03&lt;00:00, 287.77it/s]",
            "_view_count": null,
            "_view_module_version": "1.5.0",
            "description_tooltip": null,
            "_model_module": "@jupyter-widgets/controls",
            "layout": "IPY_MODEL_b786f3136b7f418fb8280937174ee56d"
          }
        },
        "7b5044eae7764fff966136266a6d7db3": {
          "model_module": "@jupyter-widgets/controls",
          "model_name": "ProgressStyleModel",
          "state": {
            "_view_name": "StyleView",
            "_model_name": "ProgressStyleModel",
            "description_width": "initial",
            "_view_module": "@jupyter-widgets/base",
            "_model_module_version": "1.5.0",
            "_view_count": null,
            "_view_module_version": "1.2.0",
            "bar_color": null,
            "_model_module": "@jupyter-widgets/controls"
          }
        },
        "9179bf8c20ef48a7a4cb659edf855abf": {
          "model_module": "@jupyter-widgets/base",
          "model_name": "LayoutModel",
          "state": {
            "_view_name": "LayoutView",
            "grid_template_rows": null,
            "right": null,
            "justify_content": null,
            "_view_module": "@jupyter-widgets/base",
            "overflow": null,
            "_model_module_version": "1.2.0",
            "_view_count": null,
            "flex_flow": null,
            "width": null,
            "min_width": null,
            "border": null,
            "align_items": null,
            "bottom": null,
            "_model_module": "@jupyter-widgets/base",
            "top": null,
            "grid_column": null,
            "overflow_y": null,
            "overflow_x": null,
            "grid_auto_flow": null,
            "grid_area": null,
            "grid_template_columns": null,
            "flex": null,
            "_model_name": "LayoutModel",
            "justify_items": null,
            "grid_row": null,
            "max_height": null,
            "align_content": null,
            "visibility": null,
            "align_self": null,
            "height": null,
            "min_height": null,
            "padding": null,
            "grid_auto_rows": null,
            "grid_gap": null,
            "max_width": null,
            "order": null,
            "_view_module_version": "1.2.0",
            "grid_template_areas": null,
            "object_position": null,
            "object_fit": null,
            "grid_auto_columns": null,
            "margin": null,
            "display": null,
            "left": null
          }
        },
        "a6d86f4e086f4bbb9868c1a8b37801f3": {
          "model_module": "@jupyter-widgets/controls",
          "model_name": "DescriptionStyleModel",
          "state": {
            "_view_name": "StyleView",
            "_model_name": "DescriptionStyleModel",
            "description_width": "",
            "_view_module": "@jupyter-widgets/base",
            "_model_module_version": "1.5.0",
            "_view_count": null,
            "_view_module_version": "1.2.0",
            "_model_module": "@jupyter-widgets/controls"
          }
        },
        "b786f3136b7f418fb8280937174ee56d": {
          "model_module": "@jupyter-widgets/base",
          "model_name": "LayoutModel",
          "state": {
            "_view_name": "LayoutView",
            "grid_template_rows": null,
            "right": null,
            "justify_content": null,
            "_view_module": "@jupyter-widgets/base",
            "overflow": null,
            "_model_module_version": "1.2.0",
            "_view_count": null,
            "flex_flow": null,
            "width": null,
            "min_width": null,
            "border": null,
            "align_items": null,
            "bottom": null,
            "_model_module": "@jupyter-widgets/base",
            "top": null,
            "grid_column": null,
            "overflow_y": null,
            "overflow_x": null,
            "grid_auto_flow": null,
            "grid_area": null,
            "grid_template_columns": null,
            "flex": null,
            "_model_name": "LayoutModel",
            "justify_items": null,
            "grid_row": null,
            "max_height": null,
            "align_content": null,
            "visibility": null,
            "align_self": null,
            "height": null,
            "min_height": null,
            "padding": null,
            "grid_auto_rows": null,
            "grid_gap": null,
            "max_width": null,
            "order": null,
            "_view_module_version": "1.2.0",
            "grid_template_areas": null,
            "object_position": null,
            "object_fit": null,
            "grid_auto_columns": null,
            "margin": null,
            "display": null,
            "left": null
          }
        },
        "2b12bbd1ac7c4a58bc861d8c6836175a": {
          "model_module": "@jupyter-widgets/controls",
          "model_name": "HBoxModel",
          "state": {
            "_view_name": "HBoxView",
            "_dom_classes": [],
            "_model_name": "HBoxModel",
            "_view_module": "@jupyter-widgets/controls",
            "_model_module_version": "1.5.0",
            "_view_count": null,
            "_view_module_version": "1.5.0",
            "box_style": "",
            "layout": "IPY_MODEL_e7237b50de474218a04171a43051ae21",
            "_model_module": "@jupyter-widgets/controls",
            "children": [
              "IPY_MODEL_056862fb28cf4fe4a90561214ca171ea",
              "IPY_MODEL_679812e67fd74bbb9d1aaa8d13774a19"
            ]
          }
        },
        "e7237b50de474218a04171a43051ae21": {
          "model_module": "@jupyter-widgets/base",
          "model_name": "LayoutModel",
          "state": {
            "_view_name": "LayoutView",
            "grid_template_rows": null,
            "right": null,
            "justify_content": null,
            "_view_module": "@jupyter-widgets/base",
            "overflow": null,
            "_model_module_version": "1.2.0",
            "_view_count": null,
            "flex_flow": null,
            "width": null,
            "min_width": null,
            "border": null,
            "align_items": null,
            "bottom": null,
            "_model_module": "@jupyter-widgets/base",
            "top": null,
            "grid_column": null,
            "overflow_y": null,
            "overflow_x": null,
            "grid_auto_flow": null,
            "grid_area": null,
            "grid_template_columns": null,
            "flex": null,
            "_model_name": "LayoutModel",
            "justify_items": null,
            "grid_row": null,
            "max_height": null,
            "align_content": null,
            "visibility": null,
            "align_self": null,
            "height": null,
            "min_height": null,
            "padding": null,
            "grid_auto_rows": null,
            "grid_gap": null,
            "max_width": null,
            "order": null,
            "_view_module_version": "1.2.0",
            "grid_template_areas": null,
            "object_position": null,
            "object_fit": null,
            "grid_auto_columns": null,
            "margin": null,
            "display": null,
            "left": null
          }
        },
        "056862fb28cf4fe4a90561214ca171ea": {
          "model_module": "@jupyter-widgets/controls",
          "model_name": "FloatProgressModel",
          "state": {
            "_view_name": "ProgressView",
            "style": "IPY_MODEL_a37765d8d6804ae1ac15377c3235deb5",
            "_dom_classes": [],
            "description": "100%",
            "_model_name": "FloatProgressModel",
            "bar_style": "success",
            "max": 1000,
            "_view_module": "@jupyter-widgets/controls",
            "_model_module_version": "1.5.0",
            "value": 1000,
            "_view_count": null,
            "_view_module_version": "1.5.0",
            "orientation": "horizontal",
            "min": 0,
            "description_tooltip": null,
            "_model_module": "@jupyter-widgets/controls",
            "layout": "IPY_MODEL_f32de01625244aa9bc6f8f1118600eef"
          }
        },
        "679812e67fd74bbb9d1aaa8d13774a19": {
          "model_module": "@jupyter-widgets/controls",
          "model_name": "HTMLModel",
          "state": {
            "_view_name": "HTMLView",
            "style": "IPY_MODEL_f07b762b46664c7aafe59564c108fd2f",
            "_dom_classes": [],
            "description": "",
            "_model_name": "HTMLModel",
            "placeholder": "​",
            "_view_module": "@jupyter-widgets/controls",
            "_model_module_version": "1.5.0",
            "value": " 1000/1000 [00:03&lt;00:00, 281.35it/s]",
            "_view_count": null,
            "_view_module_version": "1.5.0",
            "description_tooltip": null,
            "_model_module": "@jupyter-widgets/controls",
            "layout": "IPY_MODEL_9aa4d71413db478b938276e3d1321e5a"
          }
        },
        "a37765d8d6804ae1ac15377c3235deb5": {
          "model_module": "@jupyter-widgets/controls",
          "model_name": "ProgressStyleModel",
          "state": {
            "_view_name": "StyleView",
            "_model_name": "ProgressStyleModel",
            "description_width": "initial",
            "_view_module": "@jupyter-widgets/base",
            "_model_module_version": "1.5.0",
            "_view_count": null,
            "_view_module_version": "1.2.0",
            "bar_color": null,
            "_model_module": "@jupyter-widgets/controls"
          }
        },
        "f32de01625244aa9bc6f8f1118600eef": {
          "model_module": "@jupyter-widgets/base",
          "model_name": "LayoutModel",
          "state": {
            "_view_name": "LayoutView",
            "grid_template_rows": null,
            "right": null,
            "justify_content": null,
            "_view_module": "@jupyter-widgets/base",
            "overflow": null,
            "_model_module_version": "1.2.0",
            "_view_count": null,
            "flex_flow": null,
            "width": null,
            "min_width": null,
            "border": null,
            "align_items": null,
            "bottom": null,
            "_model_module": "@jupyter-widgets/base",
            "top": null,
            "grid_column": null,
            "overflow_y": null,
            "overflow_x": null,
            "grid_auto_flow": null,
            "grid_area": null,
            "grid_template_columns": null,
            "flex": null,
            "_model_name": "LayoutModel",
            "justify_items": null,
            "grid_row": null,
            "max_height": null,
            "align_content": null,
            "visibility": null,
            "align_self": null,
            "height": null,
            "min_height": null,
            "padding": null,
            "grid_auto_rows": null,
            "grid_gap": null,
            "max_width": null,
            "order": null,
            "_view_module_version": "1.2.0",
            "grid_template_areas": null,
            "object_position": null,
            "object_fit": null,
            "grid_auto_columns": null,
            "margin": null,
            "display": null,
            "left": null
          }
        },
        "f07b762b46664c7aafe59564c108fd2f": {
          "model_module": "@jupyter-widgets/controls",
          "model_name": "DescriptionStyleModel",
          "state": {
            "_view_name": "StyleView",
            "_model_name": "DescriptionStyleModel",
            "description_width": "",
            "_view_module": "@jupyter-widgets/base",
            "_model_module_version": "1.5.0",
            "_view_count": null,
            "_view_module_version": "1.2.0",
            "_model_module": "@jupyter-widgets/controls"
          }
        },
        "9aa4d71413db478b938276e3d1321e5a": {
          "model_module": "@jupyter-widgets/base",
          "model_name": "LayoutModel",
          "state": {
            "_view_name": "LayoutView",
            "grid_template_rows": null,
            "right": null,
            "justify_content": null,
            "_view_module": "@jupyter-widgets/base",
            "overflow": null,
            "_model_module_version": "1.2.0",
            "_view_count": null,
            "flex_flow": null,
            "width": null,
            "min_width": null,
            "border": null,
            "align_items": null,
            "bottom": null,
            "_model_module": "@jupyter-widgets/base",
            "top": null,
            "grid_column": null,
            "overflow_y": null,
            "overflow_x": null,
            "grid_auto_flow": null,
            "grid_area": null,
            "grid_template_columns": null,
            "flex": null,
            "_model_name": "LayoutModel",
            "justify_items": null,
            "grid_row": null,
            "max_height": null,
            "align_content": null,
            "visibility": null,
            "align_self": null,
            "height": null,
            "min_height": null,
            "padding": null,
            "grid_auto_rows": null,
            "grid_gap": null,
            "max_width": null,
            "order": null,
            "_view_module_version": "1.2.0",
            "grid_template_areas": null,
            "object_position": null,
            "object_fit": null,
            "grid_auto_columns": null,
            "margin": null,
            "display": null,
            "left": null
          }
        }
      }
    }
  },
  "cells": [
    {
      "cell_type": "markdown",
      "metadata": {
        "id": "view-in-github",
        "colab_type": "text"
      },
      "source": [
        "<a href=\"https://colab.research.google.com/github/flecue/xai-aaai2021/blob/main/XAI_LIME%2BAnchor%2BSHAP%2BSaliency%2BGradCam%2BExMatchina_Image.ipynb\" target=\"_parent\"><img src=\"https://colab.research.google.com/assets/colab-badge.svg\" alt=\"Open In Colab\"/></a>"
      ]
    },
    {
      "cell_type": "markdown",
      "metadata": {
        "id": "kwM-f3wOJ83P"
      },
      "source": [
        "CREDITS: https://github.com/nesl/Explainability-Study\n",
        "\n",
        "Used as part of AAAI 2021 Tutorial on XAI - https://xaitutorial2021.github.io/\n",
        "                                          - https://github.com/flecue/xai-aaai2021"
      ]
    },
    {
      "cell_type": "markdown",
      "metadata": {
        "id": "u4HyYPIsJYiS"
      },
      "source": [
        "## Mount Drive"
      ]
    },
    {
      "cell_type": "code",
      "metadata": {
        "colab": {
          "base_uri": "https://localhost:8080/"
        },
        "id": "d14x-QxxJc0u",
        "outputId": "a4020ec6-e9f2-47ab-abaa-66db0de394c3"
      },
      "source": [
        "from google.colab import drive\n",
        "drive.mount('/content/gdrive')"
      ],
      "execution_count": null,
      "outputs": [
        {
          "output_type": "stream",
          "text": [
            "Mounted at /content/gdrive\n"
          ],
          "name": "stdout"
        }
      ]
    },
    {
      "cell_type": "markdown",
      "metadata": {
        "id": "zOiPAKJPJnB-"
      },
      "source": [
        "## Configuration"
      ]
    },
    {
      "cell_type": "markdown",
      "metadata": {
        "id": "NyuoGbvdJtuy"
      },
      "source": [
        "1- Make sure to get \"XAI_EXAMPLE_exMatchina_ALL\" from https://github.com/flecue/xai-aaai2021/tree/main/XAI_EXAMPLE_exMatchina_ALL"
      ]
    },
    {
      "cell_type": "code",
      "metadata": {
        "colab": {
          "base_uri": "https://localhost:8080/"
        },
        "id": "mVs5FkQbJwnH",
        "outputId": "f01fec1b-a76c-409b-e3c7-59f63414fc18"
      },
      "source": [
        "%cd '/content/gdrive/MyDrive/dev'\n",
        "%ls"
      ],
      "execution_count": null,
      "outputs": [
        {
          "output_type": "stream",
          "text": [
            "/content/gdrive/MyDrive/dev\n",
            "\u001b[0m\u001b[01;34mpulse\u001b[0m/\n",
            "requirements_XAI_LIME+Anchor+SHAP+Saliency+GradCam+ExMatchina_Image.txt\n",
            "\u001b[01;34mXAI_EXAMPLE_exMatchina_ALL\u001b[0m/\n",
            "XAI_EXAMPLE_exMatchina_ECG.ipynb\n",
            "XAI_EXAMPLE_exMatchina_Image.ipynb\n",
            "XAI_EXAMPLE_exMatchina_Text.ipynb\n",
            "XAI_LIME+Anchor+SHAP+Saliency+GradCam+ExMatchina_Image.ipynb\n"
          ],
          "name": "stdout"
        }
      ]
    },
    {
      "cell_type": "code",
      "metadata": {
        "colab": {
          "base_uri": "https://localhost:8080/",
          "height": 1000
        },
        "id": "3uxoMWgOKJPZ",
        "outputId": "820efb80-aea4-4e6a-c1c5-1fe09bb3f163"
      },
      "source": [
        "!pip3 install -r requirements_XAI_LIME+Anchor+SHAP+Saliency+GradCam+ExMatchina_Image.txt"
      ],
      "execution_count": null,
      "outputs": [
        {
          "output_type": "stream",
          "text": [
            "Collecting tensorflow==1.15.3\n",
            "\u001b[?25l  Downloading https://files.pythonhosted.org/packages/02/36/9a02e27f0ec248b676a380ffe910c1858e3af3027c0d4d513dd0b56a5613/tensorflow-1.15.3-cp36-cp36m-manylinux2010_x86_64.whl (110.5MB)\n",
            "\u001b[K     |████████████████████████████████| 110.5MB 36kB/s \n",
            "\u001b[?25hCollecting matplotlib==3.1.3\n",
            "\u001b[?25l  Downloading https://files.pythonhosted.org/packages/7e/07/4b361d6d0f4e08942575f83a11d33f36897e1aae4279046606dd1808778a/matplotlib-3.1.3-cp36-cp36m-manylinux1_x86_64.whl (13.1MB)\n",
            "\u001b[K     |████████████████████████████████| 13.1MB 252kB/s \n",
            "\u001b[?25hCollecting shap==0.34.0\n",
            "\u001b[?25l  Downloading https://files.pythonhosted.org/packages/b8/db/58740847c0df6b346a999e3c375936436f4155354f6b644aa6e203bb40f3/shap-0.34.0.tar.gz (264kB)\n",
            "\u001b[K     |████████████████████████████████| 266kB 54.9MB/s \n",
            "\u001b[?25hCollecting numpy==1.17.4\n",
            "\u001b[?25l  Downloading https://files.pythonhosted.org/packages/d2/ab/43e678759326f728de861edbef34b8e2ad1b1490505f20e0d1f0716c3bf4/numpy-1.17.4-cp36-cp36m-manylinux1_x86_64.whl (20.0MB)\n",
            "\u001b[K     |████████████████████████████████| 20.0MB 66.2MB/s \n",
            "\u001b[?25hCollecting scikit_learn==0.23.1\n",
            "\u001b[?25l  Downloading https://files.pythonhosted.org/packages/d9/3a/eb8d7bbe28f4787d140bb9df685b7d5bf6115c0e2a969def4027144e98b6/scikit_learn-0.23.1-cp36-cp36m-manylinux1_x86_64.whl (6.8MB)\n",
            "\u001b[K     |████████████████████████████████| 6.9MB 49.6MB/s \n",
            "\u001b[?25hCollecting vis==0.0.5\n",
            "  Downloading https://files.pythonhosted.org/packages/65/21/47f39fc0c6e8c3d29f2df6425347c59d201c2ff26e32d890a43002216d54/vis-0.0.5-py3-none-any.whl\n",
            "Collecting alibi==0.5.0\n",
            "\u001b[?25l  Downloading https://files.pythonhosted.org/packages/b5/f8/5850be0689fb5e55c15739f060a7d306d40df274e2c1169695c781758475/alibi-0.5.0-py3-none-any.whl (217kB)\n",
            "\u001b[K     |████████████████████████████████| 225kB 54.3MB/s \n",
            "\u001b[?25hCollecting lime==0.2.0.0\n",
            "\u001b[?25l  Downloading https://files.pythonhosted.org/packages/27/ee/4aaac4cd79f16329746495aca96f8c35f278b5c774eff3358eaa21e1cbf3/lime-0.2.0.0.tar.gz (274kB)\n",
            "\u001b[K     |████████████████████████████████| 276kB 54.7MB/s \n",
            "\u001b[?25hRequirement already satisfied: scikit_image==0.16.2 in /usr/local/lib/python3.6/dist-packages (from -r requirements_XAI_LIME+Anchor+SHAP+Saliency+GradCam+ExMatchina_Image.txt (line 9)) (0.16.2)\n",
            "Requirement already satisfied: librosa==0.6.3 in /usr/local/lib/python3.6/dist-packages (from -r requirements_XAI_LIME+Anchor+SHAP+Saliency+GradCam+ExMatchina_Image.txt (line 10)) (0.6.3)\n",
            "Collecting moviepy==1.0.1\n",
            "\u001b[?25l  Downloading https://files.pythonhosted.org/packages/de/f0/b8005c49fd3975a9660dfd648292bb043a5d811fe17339e8f7b79f3ec796/moviepy-1.0.1.tar.gz (373kB)\n",
            "\u001b[K     |████████████████████████████████| 378kB 50.5MB/s \n",
            "\u001b[?25hRequirement already satisfied: scipy==1.4.1 in /usr/local/lib/python3.6/dist-packages (from -r requirements_XAI_LIME+Anchor+SHAP+Saliency+GradCam+ExMatchina_Image.txt (line 12)) (1.4.1)\n",
            "Collecting ipython==7.15.0\n",
            "\u001b[?25l  Downloading https://files.pythonhosted.org/packages/aa/e8/47fda10c3ab103d9d4a667b40da9afd542c4e50aeb00c861b4eee5bb4e8f/ipython-7.15.0-py3-none-any.whl (783kB)\n",
            "\u001b[K     |████████████████████████████████| 788kB 31.8MB/s \n",
            "\u001b[?25hCollecting Pillow==7.1.2\n",
            "\u001b[?25l  Downloading https://files.pythonhosted.org/packages/e0/50/8e78e6f62ffa50d6ca95c281d5a2819bef66d023ac1b723e253de5bda9c5/Pillow-7.1.2-cp36-cp36m-manylinux1_x86_64.whl (2.1MB)\n",
            "\u001b[K     |████████████████████████████████| 2.1MB 39.3MB/s \n",
            "\u001b[?25hCollecting imageio==2.8.0\n",
            "\u001b[?25l  Downloading https://files.pythonhosted.org/packages/4c/2b/9dd19644f871b10f7e32eb2dbd6b45149c350b4d5f2893e091b882e03ab7/imageio-2.8.0-py3-none-any.whl (3.3MB)\n",
            "\u001b[K     |████████████████████████████████| 3.3MB 54.7MB/s \n",
            "\u001b[?25hCollecting pandas==1.0.3\n",
            "\u001b[?25l  Downloading https://files.pythonhosted.org/packages/bb/71/8f53bdbcbc67c912b888b40def255767e475402e9df64050019149b1a943/pandas-1.0.3-cp36-cp36m-manylinux1_x86_64.whl (10.0MB)\n",
            "\u001b[K     |████████████████████████████████| 10.0MB 43.7MB/s \n",
            "\u001b[?25hCollecting natsort==7.0.1\n",
            "  Downloading https://files.pythonhosted.org/packages/0f/65/81883897f4aaa1e53deaa65137318cfe80b36ce013c2e86f8fd0843cfa02/natsort-7.0.1-py3-none-any.whl\n",
            "Requirement already satisfied: google-pasta>=0.1.6 in /usr/local/lib/python3.6/dist-packages (from tensorflow==1.15.3->-r requirements_XAI_LIME+Anchor+SHAP+Saliency+GradCam+ExMatchina_Image.txt (line 1)) (0.2.0)\n",
            "Collecting gast==0.2.2\n",
            "  Downloading https://files.pythonhosted.org/packages/4e/35/11749bf99b2d4e3cceb4d55ca22590b0d7c2c62b9de38ac4a4a7f4687421/gast-0.2.2.tar.gz\n",
            "Requirement already satisfied: protobuf>=3.6.1 in /usr/local/lib/python3.6/dist-packages (from tensorflow==1.15.3->-r requirements_XAI_LIME+Anchor+SHAP+Saliency+GradCam+ExMatchina_Image.txt (line 1)) (3.12.4)\n",
            "Collecting keras-applications>=1.0.8\n",
            "\u001b[?25l  Downloading https://files.pythonhosted.org/packages/71/e3/19762fdfc62877ae9102edf6342d71b28fbfd9dea3d2f96a882ce099b03f/Keras_Applications-1.0.8-py3-none-any.whl (50kB)\n",
            "\u001b[K     |████████████████████████████████| 51kB 8.8MB/s \n",
            "\u001b[?25hRequirement already satisfied: absl-py>=0.7.0 in /usr/local/lib/python3.6/dist-packages (from tensorflow==1.15.3->-r requirements_XAI_LIME+Anchor+SHAP+Saliency+GradCam+ExMatchina_Image.txt (line 1)) (0.10.0)\n",
            "Requirement already satisfied: six>=1.10.0 in /usr/local/lib/python3.6/dist-packages (from tensorflow==1.15.3->-r requirements_XAI_LIME+Anchor+SHAP+Saliency+GradCam+ExMatchina_Image.txt (line 1)) (1.15.0)\n",
            "Requirement already satisfied: grpcio>=1.8.6 in /usr/local/lib/python3.6/dist-packages (from tensorflow==1.15.3->-r requirements_XAI_LIME+Anchor+SHAP+Saliency+GradCam+ExMatchina_Image.txt (line 1)) (1.32.0)\n",
            "Requirement already satisfied: opt-einsum>=2.3.2 in /usr/local/lib/python3.6/dist-packages (from tensorflow==1.15.3->-r requirements_XAI_LIME+Anchor+SHAP+Saliency+GradCam+ExMatchina_Image.txt (line 1)) (3.3.0)\n",
            "Requirement already satisfied: astor>=0.6.0 in /usr/local/lib/python3.6/dist-packages (from tensorflow==1.15.3->-r requirements_XAI_LIME+Anchor+SHAP+Saliency+GradCam+ExMatchina_Image.txt (line 1)) (0.8.1)\n",
            "Collecting tensorboard<1.16.0,>=1.15.0\n",
            "\u001b[?25l  Downloading https://files.pythonhosted.org/packages/1e/e9/d3d747a97f7188f48aa5eda486907f3b345cd409f0a0850468ba867db246/tensorboard-1.15.0-py3-none-any.whl (3.8MB)\n",
            "\u001b[K     |████████████████████████████████| 3.8MB 39.4MB/s \n",
            "\u001b[?25hRequirement already satisfied: wrapt>=1.11.1 in /usr/local/lib/python3.6/dist-packages (from tensorflow==1.15.3->-r requirements_XAI_LIME+Anchor+SHAP+Saliency+GradCam+ExMatchina_Image.txt (line 1)) (1.12.1)\n",
            "Requirement already satisfied: wheel>=0.26; python_version >= \"3\" in /usr/local/lib/python3.6/dist-packages (from tensorflow==1.15.3->-r requirements_XAI_LIME+Anchor+SHAP+Saliency+GradCam+ExMatchina_Image.txt (line 1)) (0.36.2)\n",
            "Requirement already satisfied: termcolor>=1.1.0 in /usr/local/lib/python3.6/dist-packages (from tensorflow==1.15.3->-r requirements_XAI_LIME+Anchor+SHAP+Saliency+GradCam+ExMatchina_Image.txt (line 1)) (1.1.0)\n",
            "Collecting tensorflow-estimator==1.15.1\n",
            "\u001b[?25l  Downloading https://files.pythonhosted.org/packages/de/62/2ee9cd74c9fa2fa450877847ba560b260f5d0fb70ee0595203082dafcc9d/tensorflow_estimator-1.15.1-py2.py3-none-any.whl (503kB)\n",
            "\u001b[K     |████████████████████████████████| 512kB 49.7MB/s \n",
            "\u001b[?25hRequirement already satisfied: keras-preprocessing>=1.0.5 in /usr/local/lib/python3.6/dist-packages (from tensorflow==1.15.3->-r requirements_XAI_LIME+Anchor+SHAP+Saliency+GradCam+ExMatchina_Image.txt (line 1)) (1.1.2)\n",
            "Requirement already satisfied: kiwisolver>=1.0.1 in /usr/local/lib/python3.6/dist-packages (from matplotlib==3.1.3->-r requirements_XAI_LIME+Anchor+SHAP+Saliency+GradCam+ExMatchina_Image.txt (line 2)) (1.3.1)\n",
            "Requirement already satisfied: pyparsing!=2.0.4,!=2.1.2,!=2.1.6,>=2.0.1 in /usr/local/lib/python3.6/dist-packages (from matplotlib==3.1.3->-r requirements_XAI_LIME+Anchor+SHAP+Saliency+GradCam+ExMatchina_Image.txt (line 2)) (2.4.7)\n",
            "Requirement already satisfied: python-dateutil>=2.1 in /usr/local/lib/python3.6/dist-packages (from matplotlib==3.1.3->-r requirements_XAI_LIME+Anchor+SHAP+Saliency+GradCam+ExMatchina_Image.txt (line 2)) (2.8.1)\n",
            "Requirement already satisfied: cycler>=0.10 in /usr/local/lib/python3.6/dist-packages (from matplotlib==3.1.3->-r requirements_XAI_LIME+Anchor+SHAP+Saliency+GradCam+ExMatchina_Image.txt (line 2)) (0.10.0)\n",
            "Requirement already satisfied: tqdm>4.25.0 in /usr/local/lib/python3.6/dist-packages (from shap==0.34.0->-r requirements_XAI_LIME+Anchor+SHAP+Saliency+GradCam+ExMatchina_Image.txt (line 3)) (4.41.1)\n",
            "Requirement already satisfied: joblib>=0.11 in /usr/local/lib/python3.6/dist-packages (from scikit_learn==0.23.1->-r requirements_XAI_LIME+Anchor+SHAP+Saliency+GradCam+ExMatchina_Image.txt (line 5)) (1.0.0)\n",
            "Collecting threadpoolctl>=2.0.0\n",
            "  Downloading https://files.pythonhosted.org/packages/f7/12/ec3f2e203afa394a149911729357aa48affc59c20e2c1c8297a60f33f133/threadpoolctl-2.1.0-py3-none-any.whl\n",
            "Requirement already satisfied: attrs in /usr/local/lib/python3.6/dist-packages (from alibi==0.5.0->-r requirements_XAI_LIME+Anchor+SHAP+Saliency+GradCam+ExMatchina_Image.txt (line 7)) (20.3.0)\n",
            "Requirement already satisfied: typing-extensions in /usr/local/lib/python3.6/dist-packages (from alibi==0.5.0->-r requirements_XAI_LIME+Anchor+SHAP+Saliency+GradCam+ExMatchina_Image.txt (line 7)) (3.7.4.3)\n",
            "Requirement already satisfied: spacy in /usr/local/lib/python3.6/dist-packages (from alibi==0.5.0->-r requirements_XAI_LIME+Anchor+SHAP+Saliency+GradCam+ExMatchina_Image.txt (line 7)) (2.2.4)\n",
            "Requirement already satisfied: beautifulsoup4 in /usr/local/lib/python3.6/dist-packages (from alibi==0.5.0->-r requirements_XAI_LIME+Anchor+SHAP+Saliency+GradCam+ExMatchina_Image.txt (line 7)) (4.6.3)\n",
            "Collecting prettyprinter\n",
            "\u001b[?25l  Downloading https://files.pythonhosted.org/packages/9f/d0/9effbeca8f1b8df9d33154de3477a51e55a9c46cb15612dd7791a1624397/prettyprinter-0.18.0-py2.py3-none-any.whl (48kB)\n",
            "\u001b[K     |████████████████████████████████| 51kB 8.2MB/s \n",
            "\u001b[?25hRequirement already satisfied: requests in /usr/local/lib/python3.6/dist-packages (from alibi==0.5.0->-r requirements_XAI_LIME+Anchor+SHAP+Saliency+GradCam+ExMatchina_Image.txt (line 7)) (2.23.0)\n",
            "Requirement already satisfied: networkx>=2.0 in /usr/local/lib/python3.6/dist-packages (from scikit_image==0.16.2->-r requirements_XAI_LIME+Anchor+SHAP+Saliency+GradCam+ExMatchina_Image.txt (line 9)) (2.5)\n",
            "Requirement already satisfied: PyWavelets>=0.4.0 in /usr/local/lib/python3.6/dist-packages (from scikit_image==0.16.2->-r requirements_XAI_LIME+Anchor+SHAP+Saliency+GradCam+ExMatchina_Image.txt (line 9)) (1.1.1)\n",
            "Requirement already satisfied: numba>=0.38.0 in /usr/local/lib/python3.6/dist-packages (from librosa==0.6.3->-r requirements_XAI_LIME+Anchor+SHAP+Saliency+GradCam+ExMatchina_Image.txt (line 10)) (0.48.0)\n",
            "Requirement already satisfied: decorator>=3.0.0 in /usr/local/lib/python3.6/dist-packages (from librosa==0.6.3->-r requirements_XAI_LIME+Anchor+SHAP+Saliency+GradCam+ExMatchina_Image.txt (line 10)) (4.4.2)\n",
            "Requirement already satisfied: audioread>=2.0.0 in /usr/local/lib/python3.6/dist-packages (from librosa==0.6.3->-r requirements_XAI_LIME+Anchor+SHAP+Saliency+GradCam+ExMatchina_Image.txt (line 10)) (2.1.9)\n",
            "Requirement already satisfied: resampy>=0.2.0 in /usr/local/lib/python3.6/dist-packages (from librosa==0.6.3->-r requirements_XAI_LIME+Anchor+SHAP+Saliency+GradCam+ExMatchina_Image.txt (line 10)) (0.2.2)\n",
            "Collecting proglog<=1.0.0\n",
            "  Downloading https://files.pythonhosted.org/packages/fe/ab/4cb19b578e1364c0b2d6efd6521a8b4b4e5c4ae6528041d31a2a951dd991/proglog-0.1.9.tar.gz\n",
            "Collecting imageio_ffmpeg>=0.2.0\n",
            "\u001b[?25l  Downloading https://files.pythonhosted.org/packages/89/0f/4b49476d185a273163fa648eaf1e7d4190661d1bbf37ec2975b84df9de02/imageio_ffmpeg-0.4.3-py3-none-manylinux2010_x86_64.whl (26.9MB)\n",
            "\u001b[K     |████████████████████████████████| 26.9MB 169kB/s \n",
            "\u001b[?25hRequirement already satisfied: jedi>=0.10 in /usr/local/lib/python3.6/dist-packages (from ipython==7.15.0->-r requirements_XAI_LIME+Anchor+SHAP+Saliency+GradCam+ExMatchina_Image.txt (line 13)) (0.17.2)\n",
            "Requirement already satisfied: traitlets>=4.2 in /usr/local/lib/python3.6/dist-packages (from ipython==7.15.0->-r requirements_XAI_LIME+Anchor+SHAP+Saliency+GradCam+ExMatchina_Image.txt (line 13)) (4.3.3)\n",
            "Collecting prompt-toolkit!=3.0.0,!=3.0.1,<3.1.0,>=2.0.0\n",
            "\u001b[?25l  Downloading https://files.pythonhosted.org/packages/9f/48/a1a6177a3b5c31b44bf9d5af7a9a87bba2b0adcba85b8b91450c66a6abf9/prompt_toolkit-3.0.10-py3-none-any.whl (355kB)\n",
            "\u001b[K     |████████████████████████████████| 358kB 46.7MB/s \n",
            "\u001b[?25hRequirement already satisfied: pickleshare in /usr/local/lib/python3.6/dist-packages (from ipython==7.15.0->-r requirements_XAI_LIME+Anchor+SHAP+Saliency+GradCam+ExMatchina_Image.txt (line 13)) (0.7.5)\n",
            "Requirement already satisfied: backcall in /usr/local/lib/python3.6/dist-packages (from ipython==7.15.0->-r requirements_XAI_LIME+Anchor+SHAP+Saliency+GradCam+ExMatchina_Image.txt (line 13)) (0.2.0)\n",
            "Requirement already satisfied: pexpect; sys_platform != \"win32\" in /usr/local/lib/python3.6/dist-packages (from ipython==7.15.0->-r requirements_XAI_LIME+Anchor+SHAP+Saliency+GradCam+ExMatchina_Image.txt (line 13)) (4.8.0)\n",
            "Requirement already satisfied: pygments in /usr/local/lib/python3.6/dist-packages (from ipython==7.15.0->-r requirements_XAI_LIME+Anchor+SHAP+Saliency+GradCam+ExMatchina_Image.txt (line 13)) (2.6.1)\n",
            "Requirement already satisfied: setuptools>=18.5 in /usr/local/lib/python3.6/dist-packages (from ipython==7.15.0->-r requirements_XAI_LIME+Anchor+SHAP+Saliency+GradCam+ExMatchina_Image.txt (line 13)) (51.1.1)\n",
            "Requirement already satisfied: pytz>=2017.2 in /usr/local/lib/python3.6/dist-packages (from pandas==1.0.3->-r requirements_XAI_LIME+Anchor+SHAP+Saliency+GradCam+ExMatchina_Image.txt (line 16)) (2018.9)\n",
            "Requirement already satisfied: h5py in /usr/local/lib/python3.6/dist-packages (from keras-applications>=1.0.8->tensorflow==1.15.3->-r requirements_XAI_LIME+Anchor+SHAP+Saliency+GradCam+ExMatchina_Image.txt (line 1)) (2.10.0)\n",
            "Requirement already satisfied: markdown>=2.6.8 in /usr/local/lib/python3.6/dist-packages (from tensorboard<1.16.0,>=1.15.0->tensorflow==1.15.3->-r requirements_XAI_LIME+Anchor+SHAP+Saliency+GradCam+ExMatchina_Image.txt (line 1)) (3.3.3)\n",
            "Requirement already satisfied: werkzeug>=0.11.15 in /usr/local/lib/python3.6/dist-packages (from tensorboard<1.16.0,>=1.15.0->tensorflow==1.15.3->-r requirements_XAI_LIME+Anchor+SHAP+Saliency+GradCam+ExMatchina_Image.txt (line 1)) (1.0.1)\n",
            "Requirement already satisfied: thinc==7.4.0 in /usr/local/lib/python3.6/dist-packages (from spacy->alibi==0.5.0->-r requirements_XAI_LIME+Anchor+SHAP+Saliency+GradCam+ExMatchina_Image.txt (line 7)) (7.4.0)\n",
            "Requirement already satisfied: cymem<2.1.0,>=2.0.2 in /usr/local/lib/python3.6/dist-packages (from spacy->alibi==0.5.0->-r requirements_XAI_LIME+Anchor+SHAP+Saliency+GradCam+ExMatchina_Image.txt (line 7)) (2.0.5)\n",
            "Requirement already satisfied: catalogue<1.1.0,>=0.0.7 in /usr/local/lib/python3.6/dist-packages (from spacy->alibi==0.5.0->-r requirements_XAI_LIME+Anchor+SHAP+Saliency+GradCam+ExMatchina_Image.txt (line 7)) (1.0.0)\n",
            "Requirement already satisfied: murmurhash<1.1.0,>=0.28.0 in /usr/local/lib/python3.6/dist-packages (from spacy->alibi==0.5.0->-r requirements_XAI_LIME+Anchor+SHAP+Saliency+GradCam+ExMatchina_Image.txt (line 7)) (1.0.5)\n",
            "Requirement already satisfied: preshed<3.1.0,>=3.0.2 in /usr/local/lib/python3.6/dist-packages (from spacy->alibi==0.5.0->-r requirements_XAI_LIME+Anchor+SHAP+Saliency+GradCam+ExMatchina_Image.txt (line 7)) (3.0.5)\n",
            "Requirement already satisfied: plac<1.2.0,>=0.9.6 in /usr/local/lib/python3.6/dist-packages (from spacy->alibi==0.5.0->-r requirements_XAI_LIME+Anchor+SHAP+Saliency+GradCam+ExMatchina_Image.txt (line 7)) (1.1.3)\n",
            "Requirement already satisfied: wasabi<1.1.0,>=0.4.0 in /usr/local/lib/python3.6/dist-packages (from spacy->alibi==0.5.0->-r requirements_XAI_LIME+Anchor+SHAP+Saliency+GradCam+ExMatchina_Image.txt (line 7)) (0.8.0)\n",
            "Requirement already satisfied: blis<0.5.0,>=0.4.0 in /usr/local/lib/python3.6/dist-packages (from spacy->alibi==0.5.0->-r requirements_XAI_LIME+Anchor+SHAP+Saliency+GradCam+ExMatchina_Image.txt (line 7)) (0.4.1)\n",
            "Requirement already satisfied: srsly<1.1.0,>=1.0.2 in /usr/local/lib/python3.6/dist-packages (from spacy->alibi==0.5.0->-r requirements_XAI_LIME+Anchor+SHAP+Saliency+GradCam+ExMatchina_Image.txt (line 7)) (1.0.5)\n",
            "Collecting colorful>=0.4.0\n",
            "\u001b[?25l  Downloading https://files.pythonhosted.org/packages/b0/8e/e386e248266952d24d73ed734c2f5513f34d9557032618c8910e605dfaf6/colorful-0.5.4-py2.py3-none-any.whl (201kB)\n",
            "\u001b[K     |████████████████████████████████| 204kB 54.8MB/s \n",
            "\u001b[?25hRequirement already satisfied: idna<3,>=2.5 in /usr/local/lib/python3.6/dist-packages (from requests->alibi==0.5.0->-r requirements_XAI_LIME+Anchor+SHAP+Saliency+GradCam+ExMatchina_Image.txt (line 7)) (2.10)\n",
            "Requirement already satisfied: certifi>=2017.4.17 in /usr/local/lib/python3.6/dist-packages (from requests->alibi==0.5.0->-r requirements_XAI_LIME+Anchor+SHAP+Saliency+GradCam+ExMatchina_Image.txt (line 7)) (2020.12.5)\n",
            "Requirement already satisfied: chardet<4,>=3.0.2 in /usr/local/lib/python3.6/dist-packages (from requests->alibi==0.5.0->-r requirements_XAI_LIME+Anchor+SHAP+Saliency+GradCam+ExMatchina_Image.txt (line 7)) (3.0.4)\n",
            "Requirement already satisfied: urllib3!=1.25.0,!=1.25.1,<1.26,>=1.21.1 in /usr/local/lib/python3.6/dist-packages (from requests->alibi==0.5.0->-r requirements_XAI_LIME+Anchor+SHAP+Saliency+GradCam+ExMatchina_Image.txt (line 7)) (1.24.3)\n",
            "Requirement already satisfied: llvmlite<0.32.0,>=0.31.0dev0 in /usr/local/lib/python3.6/dist-packages (from numba>=0.38.0->librosa==0.6.3->-r requirements_XAI_LIME+Anchor+SHAP+Saliency+GradCam+ExMatchina_Image.txt (line 10)) (0.31.0)\n",
            "Requirement already satisfied: parso<0.8.0,>=0.7.0 in /usr/local/lib/python3.6/dist-packages (from jedi>=0.10->ipython==7.15.0->-r requirements_XAI_LIME+Anchor+SHAP+Saliency+GradCam+ExMatchina_Image.txt (line 13)) (0.7.1)\n",
            "Requirement already satisfied: ipython-genutils in /usr/local/lib/python3.6/dist-packages (from traitlets>=4.2->ipython==7.15.0->-r requirements_XAI_LIME+Anchor+SHAP+Saliency+GradCam+ExMatchina_Image.txt (line 13)) (0.2.0)\n",
            "Requirement already satisfied: wcwidth in /usr/local/lib/python3.6/dist-packages (from prompt-toolkit!=3.0.0,!=3.0.1,<3.1.0,>=2.0.0->ipython==7.15.0->-r requirements_XAI_LIME+Anchor+SHAP+Saliency+GradCam+ExMatchina_Image.txt (line 13)) (0.2.5)\n",
            "Requirement already satisfied: ptyprocess>=0.5 in /usr/local/lib/python3.6/dist-packages (from pexpect; sys_platform != \"win32\"->ipython==7.15.0->-r requirements_XAI_LIME+Anchor+SHAP+Saliency+GradCam+ExMatchina_Image.txt (line 13)) (0.7.0)\n",
            "Requirement already satisfied: importlib-metadata; python_version < \"3.8\" in /usr/local/lib/python3.6/dist-packages (from markdown>=2.6.8->tensorboard<1.16.0,>=1.15.0->tensorflow==1.15.3->-r requirements_XAI_LIME+Anchor+SHAP+Saliency+GradCam+ExMatchina_Image.txt (line 1)) (3.3.0)\n",
            "Requirement already satisfied: zipp>=0.5 in /usr/local/lib/python3.6/dist-packages (from importlib-metadata; python_version < \"3.8\"->markdown>=2.6.8->tensorboard<1.16.0,>=1.15.0->tensorflow==1.15.3->-r requirements_XAI_LIME+Anchor+SHAP+Saliency+GradCam+ExMatchina_Image.txt (line 1)) (3.4.0)\n",
            "Building wheels for collected packages: shap, lime, moviepy, gast, proglog\n",
            "  Building wheel for shap (setup.py) ... \u001b[?25l\u001b[?25hdone\n",
            "  Created wheel for shap: filename=shap-0.34.0-cp36-cp36m-linux_x86_64.whl size=383182 sha256=d895b43b08c18016082bf59e86a41c27dd41b677cb76c6dd3b4188f756589528\n",
            "  Stored in directory: /root/.cache/pip/wheels/28/7e/28/57bc9fcb77579b0df6561298648249370648c0b91dfe42c8ec\n",
            "  Building wheel for lime (setup.py) ... \u001b[?25l\u001b[?25hdone\n",
            "  Created wheel for lime: filename=lime-0.2.0.0-cp36-none-any.whl size=284182 sha256=c23a2aa439adc8d48a72fc229ef3c067bdd98ff9c95cec16d6ebd4b5c6c403b7\n",
            "  Stored in directory: /root/.cache/pip/wheels/22/f2/ec/e5ebd07348b2b1ac722e91c2f549fcc220f7d5f25497a61232\n",
            "  Building wheel for moviepy (setup.py) ... \u001b[?25l\u001b[?25hdone\n",
            "  Created wheel for moviepy: filename=moviepy-1.0.1-cp36-none-any.whl size=110786 sha256=62042ee182bef06d5fe854672a96afb1259a39aa52e978426a4c8239fa9d761e\n",
            "  Stored in directory: /root/.cache/pip/wheels/a3/3c/07/45afe2bd5dbd3f935f445545d645f0f8c05d48340136367d45\n",
            "  Building wheel for gast (setup.py) ... \u001b[?25l\u001b[?25hdone\n",
            "  Created wheel for gast: filename=gast-0.2.2-cp36-none-any.whl size=7540 sha256=4d22187ddbf0b2fb592909471eb7e2deca2ab6f52fdec894e6b244cda7b569f5\n",
            "  Stored in directory: /root/.cache/pip/wheels/5c/2e/7e/a1d4d4fcebe6c381f378ce7743a3ced3699feb89bcfbdadadd\n",
            "  Building wheel for proglog (setup.py) ... \u001b[?25l\u001b[?25hdone\n",
            "  Created wheel for proglog: filename=proglog-0.1.9-cp36-none-any.whl size=6149 sha256=5e5bc98b1d975d448e685ff66bf2343b5a492861bc5aacc463b40cb00cbe65af\n",
            "  Stored in directory: /root/.cache/pip/wheels/65/56/60/1d0306a8d90b188af393c1812ddb502a8821b70917f82dcc00\n",
            "Successfully built shap lime moviepy gast proglog\n",
            "\u001b[31mERROR: tensorflow-probability 0.12.1 has requirement gast>=0.3.2, but you'll have gast 0.2.2 which is incompatible.\u001b[0m\n",
            "\u001b[31mERROR: jupyter-console 5.2.0 has requirement prompt-toolkit<2.0.0,>=1.0.0, but you'll have prompt-toolkit 3.0.10 which is incompatible.\u001b[0m\n",
            "\u001b[31mERROR: google-colab 1.0.0 has requirement ipython~=5.5.0, but you'll have ipython 7.15.0 which is incompatible.\u001b[0m\n",
            "\u001b[31mERROR: google-colab 1.0.0 has requirement pandas~=1.1.0; python_version >= \"3.0\", but you'll have pandas 1.0.3 which is incompatible.\u001b[0m\n",
            "\u001b[31mERROR: fbprophet 0.7.1 has requirement pandas>=1.0.4, but you'll have pandas 1.0.3 which is incompatible.\u001b[0m\n",
            "\u001b[31mERROR: datascience 0.10.6 has requirement folium==0.2.1, but you'll have folium 0.8.3 which is incompatible.\u001b[0m\n",
            "\u001b[31mERROR: albumentations 0.1.12 has requirement imgaug<0.2.7,>=0.2.5, but you'll have imgaug 0.2.9 which is incompatible.\u001b[0m\n",
            "\u001b[31mERROR: lime 0.2.0.0 has requirement pillow==5.4.1, but you'll have pillow 7.1.2 which is incompatible.\u001b[0m\n",
            "Installing collected packages: gast, numpy, keras-applications, tensorboard, tensorflow-estimator, tensorflow, matplotlib, threadpoolctl, scikit-learn, pandas, shap, vis, Pillow, colorful, prettyprinter, alibi, lime, proglog, imageio, imageio-ffmpeg, moviepy, prompt-toolkit, ipython, natsort\n",
            "  Found existing installation: gast 0.3.3\n",
            "    Uninstalling gast-0.3.3:\n",
            "      Successfully uninstalled gast-0.3.3\n",
            "  Found existing installation: numpy 1.19.5\n",
            "    Uninstalling numpy-1.19.5:\n",
            "      Successfully uninstalled numpy-1.19.5\n",
            "  Found existing installation: tensorboard 2.4.0\n",
            "    Uninstalling tensorboard-2.4.0:\n",
            "      Successfully uninstalled tensorboard-2.4.0\n",
            "  Found existing installation: tensorflow-estimator 2.4.0\n",
            "    Uninstalling tensorflow-estimator-2.4.0:\n",
            "      Successfully uninstalled tensorflow-estimator-2.4.0\n",
            "  Found existing installation: tensorflow 2.4.0\n",
            "    Uninstalling tensorflow-2.4.0:\n",
            "      Successfully uninstalled tensorflow-2.4.0\n",
            "  Found existing installation: matplotlib 3.2.2\n",
            "    Uninstalling matplotlib-3.2.2:\n",
            "      Successfully uninstalled matplotlib-3.2.2\n",
            "  Found existing installation: scikit-learn 0.22.2.post1\n",
            "    Uninstalling scikit-learn-0.22.2.post1:\n",
            "      Successfully uninstalled scikit-learn-0.22.2.post1\n",
            "  Found existing installation: pandas 1.1.5\n",
            "    Uninstalling pandas-1.1.5:\n",
            "      Successfully uninstalled pandas-1.1.5\n",
            "  Found existing installation: Pillow 7.0.0\n",
            "    Uninstalling Pillow-7.0.0:\n",
            "      Successfully uninstalled Pillow-7.0.0\n",
            "  Found existing installation: imageio 2.4.1\n",
            "    Uninstalling imageio-2.4.1:\n",
            "      Successfully uninstalled imageio-2.4.1\n",
            "  Found existing installation: moviepy 0.2.3.5\n",
            "    Uninstalling moviepy-0.2.3.5:\n",
            "      Successfully uninstalled moviepy-0.2.3.5\n",
            "  Found existing installation: prompt-toolkit 1.0.18\n",
            "    Uninstalling prompt-toolkit-1.0.18:\n",
            "      Successfully uninstalled prompt-toolkit-1.0.18\n",
            "  Found existing installation: ipython 5.5.0\n",
            "    Uninstalling ipython-5.5.0:\n",
            "      Successfully uninstalled ipython-5.5.0\n",
            "  Found existing installation: natsort 5.5.0\n",
            "    Uninstalling natsort-5.5.0:\n",
            "      Successfully uninstalled natsort-5.5.0\n",
            "Successfully installed Pillow-7.1.2 alibi-0.5.0 colorful-0.5.4 gast-0.2.2 imageio-2.8.0 imageio-ffmpeg-0.4.3 ipython-7.15.0 keras-applications-1.0.8 lime-0.2.0.0 matplotlib-3.1.3 moviepy-1.0.1 natsort-7.0.1 numpy-1.17.4 pandas-1.0.3 prettyprinter-0.18.0 proglog-0.1.9 prompt-toolkit-3.0.10 scikit-learn-0.23.1 shap-0.34.0 tensorboard-1.15.0 tensorflow-1.15.3 tensorflow-estimator-1.15.1 threadpoolctl-2.1.0 vis-0.0.5\n"
          ],
          "name": "stdout"
        },
        {
          "output_type": "display_data",
          "data": {
            "application/vnd.colab-display-data+json": {
              "pip_warning": {
                "packages": [
                  "IPython",
                  "PIL",
                  "matplotlib",
                  "mpl_toolkits",
                  "numpy",
                  "pandas",
                  "prompt_toolkit"
                ]
              }
            }
          },
          "metadata": {
            "tags": []
          }
        }
      ]
    },
    {
      "cell_type": "markdown",
      "metadata": {
        "id": "EZ3dCmNvKT5S"
      },
      "source": [
        "2- Make sure to get to right path"
      ]
    },
    {
      "cell_type": "code",
      "metadata": {
        "colab": {
          "base_uri": "https://localhost:8080/"
        },
        "id": "EciMWJxJKWHy",
        "outputId": "f04ed58c-dfaa-48e5-dd28-7dc9772f5e62"
      },
      "source": [
        "%cd '/content/gdrive/MyDrive/dev'"
      ],
      "execution_count": null,
      "outputs": [
        {
          "output_type": "stream",
          "text": [
            "/content/gdrive/MyDrive/dev\n"
          ],
          "name": "stdout"
        }
      ]
    },
    {
      "cell_type": "code",
      "metadata": {
        "colab": {
          "base_uri": "https://localhost:8080/"
        },
        "id": "dY0JU58WKYvU",
        "outputId": "11f01316-2264-43b6-bf9f-d3a353b77170"
      },
      "source": [
        "%ls XAI_EXAMPLE_exMatchina_ALL/Examples/"
      ],
      "execution_count": null,
      "outputs": [
        {
          "output_type": "stream",
          "text": [
            "\u001b[0m\u001b[01;34mdata\u001b[0m/  \u001b[01;34mTrained_Models\u001b[0m/\n"
          ],
          "name": "stdout"
        }
      ]
    },
    {
      "cell_type": "markdown",
      "metadata": {
        "id": "RdlZNpTzy2fX"
      },
      "source": [
        "3 - Make sure to get \"data/\" from https://drive.google.com/drive/folders/1ZRWIeUHxGbKpqWkJ2HpiSLtmUyllfThf"
      ]
    },
    {
      "cell_type": "markdown",
      "metadata": {
        "id": "qzlZLvrDRGJ8"
      },
      "source": [
        "# Setup"
      ]
    },
    {
      "cell_type": "code",
      "metadata": {
        "id": "L5TJcHzzp18U"
      },
      "source": [
        "from warnings import simplefilter \n",
        "simplefilter(action='ignore', category=FutureWarning)\n",
        "\n",
        "from tensorflow.keras import backend as K\n",
        "from tensorflow.keras.models import Model, load_model, clone_model\n",
        "from tensorflow.keras.utils import to_categorical\n",
        "from tensorflow.keras.layers import Activation\n",
        "from sklearn.model_selection import train_test_split\n",
        "\n",
        "from sklearn.metrics import f1_score, accuracy_score, confusion_matrix\n",
        "import itertools\n",
        "from random import randint\n",
        "from skimage.segmentation import slic, mark_boundaries, felzenszwalb, quickshift\n",
        "from matplotlib.colors import LinearSegmentedColormap\n",
        "\n",
        "import matplotlib.pyplot as plt\n",
        "%matplotlib inline\n",
        "import numpy as np\n",
        "import os\n",
        "import time\n",
        "import cv2\n",
        "import numpy as np\n",
        "\n",
        "import shap\n",
        "from alibi.explainers import AnchorImage\n",
        "import lime\n",
        "from lime import lime_image\n",
        "from lime.wrappers.scikit_image import SegmentationAlgorithm\n",
        "\n",
        "# import vis\n",
        "# from vis.visualization import visualize_saliency\n",
        "\n",
        "import sys\n",
        "sys.path.append('./XAI_EXAMPLE_exMatchina_ALL')\n",
        "from exmatchina import *\n"
      ],
      "execution_count": null,
      "outputs": []
    },
    {
      "cell_type": "code",
      "metadata": {
        "id": "DUV0ktjAw6P4"
      },
      "source": [
        "num_classes = 10\n",
        "\n",
        "classes = ['airplane', 'automobile', 'bird', 'cat', 'deer', 'dog', 'frog', 'horse', 'ship','truck']\n",
        "\n",
        "class_dict = {\n",
        "    'airplane': 0,\n",
        "    'automobile':1,\n",
        "    'bird':2,\n",
        "    'cat':3,\n",
        "    'deer':4,\n",
        "    'dog':5,\n",
        "    'frog':6,\n",
        "    'horse':7,\n",
        "    'ship':8,\n",
        "    'truck':9\n",
        "}\n",
        "\n",
        "inv_class_dict = {v: k for k, v in class_dict.items()}\n",
        "\n",
        "## These are the randomly generated indices that were used in our survey\n",
        "\n",
        "# all_idx = np.array([23, 26, 390, 429, 570, 649, 732, 739, 1081, 1163, 1175, 1289, 1310, 1323\n",
        "# , 1487, 1623, 1715, 1733, 1825, 1881, 1951, 2102, 2246, 2300, 2546, 2702, 2994, 3095\n",
        "# , 3308, 3488, 3727, 3862, 4190, 4299, 4370, 4417, 4448, 4526, 4537, 4559, 4604, 4672\n",
        "# , 4857, 5050, 5138, 5281, 5332, 5471, 5495, 5694, 5699, 5754, 5802, 5900, 6039, 6042\n",
        "# , 6046, 6127, 6285, 6478, 6649, 6678, 6795, 7023, 7087, 7254, 7295, 7301, 7471, 7524\n",
        "# , 7544, 7567, 7670, 7885, 7914, 7998, 8197, 8220, 8236, 8291, 8311, 8355, 8430, 8437\n",
        "# , 8510, 8646, 8662, 8755, 8875, 8896, 8990, 9106, 9134, 9169, 9436, 9603, 9739, 9772\n",
        "# , 9852, 9998])\n",
        "\n",
        "all_idx = [23, 26, 390, 429, 570]    #Considering just 5 samples"
      ],
      "execution_count": null,
      "outputs": []
    },
    {
      "cell_type": "code",
      "metadata": {
        "colab": {
          "base_uri": "https://localhost:8080/"
        },
        "id": "09byf8xzq-vj",
        "outputId": "65089e1c-ccf4-48f1-f2d7-58822748f22b"
      },
      "source": [
        "x_train = np.load('XAI_EXAMPLE_exMatchina_ALL/Examples/data/image/X_train.npy')\n",
        "y_train = np.load('XAI_EXAMPLE_exMatchina_ALL/Examples/data/image/y_train.npy')\n",
        "x_test = np.load('XAI_EXAMPLE_exMatchina_ALL/Examples/data/image/X_test.npy')\n",
        "y_test = np.load('XAI_EXAMPLE_exMatchina_ALL/Examples/data/image/y_test.npy')\n",
        "\n",
        "print(f'Number of Training samples: {x_train.shape[0]}')\n",
        "print(f'Number of Test samples: {x_test.shape[0]}')\n",
        "\n",
        "print(x_train.shape)\n",
        "print(y_train.shape)\n",
        "print(x_test.shape)\n",
        "print(y_test.shape)"
      ],
      "execution_count": null,
      "outputs": [
        {
          "output_type": "stream",
          "text": [
            "Number of Training samples: 50000\n",
            "Number of Test samples: 10000\n",
            "(50000, 32, 32, 3)\n",
            "(50000,)\n",
            "(10000, 32, 32, 3)\n",
            "(10000,)\n"
          ],
          "name": "stdout"
        }
      ]
    },
    {
      "cell_type": "code",
      "metadata": {
        "id": "r0j2xGulq-yl"
      },
      "source": [
        "y_train = to_categorical(y_train,num_classes)\n",
        "y_test = to_categorical(y_test,num_classes)"
      ],
      "execution_count": null,
      "outputs": []
    },
    {
      "cell_type": "code",
      "metadata": {
        "colab": {
          "base_uri": "https://localhost:8080/"
        },
        "id": "W7CJ4ZjORIsx",
        "outputId": "b11c4062-51e5-4ca6-a6ca-226342b03414"
      },
      "source": [
        "model = load_model('XAI_EXAMPLE_exMatchina_ALL/Examples/Trained_Models/image.hdf5')\n",
        "model.summary()"
      ],
      "execution_count": null,
      "outputs": [
        {
          "output_type": "stream",
          "text": [
            "WARNING:tensorflow:From /usr/local/lib/python3.6/dist-packages/tensorflow_core/python/ops/init_ops.py:97: calling GlorotUniform.__init__ (from tensorflow.python.ops.init_ops) with dtype is deprecated and will be removed in a future version.\n",
            "Instructions for updating:\n",
            "Call initializer instance with the dtype argument instead of passing it to the constructor\n",
            "WARNING:tensorflow:From /usr/local/lib/python3.6/dist-packages/tensorflow_core/python/ops/init_ops.py:97: calling Zeros.__init__ (from tensorflow.python.ops.init_ops) with dtype is deprecated and will be removed in a future version.\n",
            "Instructions for updating:\n",
            "Call initializer instance with the dtype argument instead of passing it to the constructor\n",
            "WARNING:tensorflow:From /usr/local/lib/python3.6/dist-packages/tensorflow_core/python/ops/resource_variable_ops.py:1630: calling BaseResourceVariable.__init__ (from tensorflow.python.ops.resource_variable_ops) with constraint is deprecated and will be removed in a future version.\n",
            "Instructions for updating:\n",
            "If using Keras pass *_constraint arguments to layers.\n",
            "WARNING:tensorflow:From /usr/local/lib/python3.6/dist-packages/tensorflow_core/python/ops/init_ops.py:97: calling Ones.__init__ (from tensorflow.python.ops.init_ops) with dtype is deprecated and will be removed in a future version.\n",
            "Instructions for updating:\n",
            "Call initializer instance with the dtype argument instead of passing it to the constructor\n",
            "Model: \"CNN\"\n",
            "_________________________________________________________________\n",
            "Layer (type)                 Output Shape              Param #   \n",
            "=================================================================\n",
            "Conv_1 (Conv2D)              (None, 32, 32, 32)        896       \n",
            "_________________________________________________________________\n",
            "Bn_1 (BatchNormalization)    (None, 32, 32, 32)        128       \n",
            "_________________________________________________________________\n",
            "Conv_2 (Conv2D)              (None, 32, 32, 32)        9248      \n",
            "_________________________________________________________________\n",
            "Bn_2 (BatchNormalization)    (None, 32, 32, 32)        128       \n",
            "_________________________________________________________________\n",
            "Max_pool_1 (MaxPooling2D)    (None, 16, 16, 32)        0         \n",
            "_________________________________________________________________\n",
            "Drop_1 (Dropout)             (None, 16, 16, 32)        0         \n",
            "_________________________________________________________________\n",
            "Conv_3 (Conv2D)              (None, 16, 16, 64)        18496     \n",
            "_________________________________________________________________\n",
            "Bn_3 (BatchNormalization)    (None, 16, 16, 64)        256       \n",
            "_________________________________________________________________\n",
            "Conv_4 (Conv2D)              (None, 16, 16, 64)        36928     \n",
            "_________________________________________________________________\n",
            "Bn_4 (BatchNormalization)    (None, 16, 16, 64)        256       \n",
            "_________________________________________________________________\n",
            "Max_pool_2 (MaxPooling2D)    (None, 8, 8, 64)          0         \n",
            "_________________________________________________________________\n",
            "Drop_2 (Dropout)             (None, 8, 8, 64)          0         \n",
            "_________________________________________________________________\n",
            "Conv_5 (Conv2D)              (None, 8, 8, 128)         73856     \n",
            "_________________________________________________________________\n",
            "Bn_5 (BatchNormalization)    (None, 8, 8, 128)         512       \n",
            "_________________________________________________________________\n",
            "Conv_6 (Conv2D)              (None, 8, 8, 128)         147584    \n",
            "_________________________________________________________________\n",
            "Bn_6 (BatchNormalization)    (None, 8, 8, 128)         512       \n",
            "_________________________________________________________________\n",
            "Max_pool_3 (MaxPooling2D)    (None, 4, 4, 128)         0         \n",
            "_________________________________________________________________\n",
            "Drop_3 (Dropout)             (None, 4, 4, 128)         0         \n",
            "_________________________________________________________________\n",
            "Flatten_1 (Flatten)          (None, 2048)              0         \n",
            "_________________________________________________________________\n",
            "dense (Dense)                (None, 32)                65568     \n",
            "_________________________________________________________________\n",
            "Bn_7 (BatchNormalization)    (None, 32)                128       \n",
            "_________________________________________________________________\n",
            "Drop_4 (Dropout)             (None, 32)                0         \n",
            "_________________________________________________________________\n",
            "logits (Dense)               (None, 10)                330       \n",
            "_________________________________________________________________\n",
            "probs (Activation)           (None, 10)                0         \n",
            "=================================================================\n",
            "Total params: 354,826\n",
            "Trainable params: 353,866\n",
            "Non-trainable params: 960\n",
            "_________________________________________________________________\n"
          ],
          "name": "stdout"
        }
      ]
    },
    {
      "cell_type": "code",
      "metadata": {
        "id": "THoDZ0bTUUki"
      },
      "source": [
        "def calculate_metrics(model, X_test, y_test_binary):\n",
        "    y_pred = np.argmax(model.predict(X_test), axis=1)\n",
        "    #print(y_pred)\n",
        "    y_true = np.argmax(y_test_binary, axis=1)\n",
        "    # y_true = np.amax(y_true, axis=1) # Freddy\n",
        "    #print(y_true)\n",
        "    #print(np.amax(y_true, axis=1))\n",
        "    mismatch = np.where(y_true != y_pred)\n",
        "    #print(mismatch)\n",
        "    cf_matrix = confusion_matrix(y_true, y_pred)\n",
        "    accuracy = accuracy_score(y_true, y_pred)\n",
        "    #micro_f1 = f1_score(y_true, y_pred, average='micro')\n",
        "    macro_f1 = f1_score(y_true, y_pred, average='macro')\n",
        "    return cf_matrix, accuracy, macro_f1, mismatch, y_pred\n",
        "\n",
        "def plot_confusion_matrix(cm, classes,\n",
        "                          normalize=False,\n",
        "                          title='Confusion matrix',\n",
        "                          cmap=plt.cm.Blues):\n",
        "    \"\"\"\n",
        "    This function prints and plots the confusion matrix.\n",
        "    Normalization can be applied by setting `normalize=True`.\n",
        "    \"\"\"\n",
        "    if normalize:\n",
        "        cm = cm.astype('float') / cm.sum(axis=1)[:, np.newaxis]\n",
        "        print(\"Normalized confusion matrix\")\n",
        "        # print(cm)\n",
        "    else:\n",
        "        print('Confusion matrix, without normalization')\n",
        "        # print(cm)\n",
        "\n",
        "    plt.figure(figsize = (10,7))\n",
        "    plt.imshow(cm, interpolation='nearest', cmap=cmap)\n",
        "    plt.title(title)\n",
        "    plt.colorbar()\n",
        "    tick_marks = np.arange(len(classes))\n",
        "    plt.xticks(tick_marks, classes, rotation=45, fontsize = 15)\n",
        "    plt.yticks(tick_marks, classes, fontsize = 15)\n",
        "\n",
        "    fmt = '.2f' if normalize else 'd'\n",
        "    thresh = cm.max() / 2.\n",
        "    for i, j in itertools.product(range(cm.shape[0]), range(cm.shape[1])):\n",
        "        plt.text(j, i, format(cm[i, j], fmt), fontsize = 15,\n",
        "                 horizontalalignment=\"center\",\n",
        "                 color=\"white\" if cm[i, j] > thresh else \"black\")\n",
        "\n",
        "    plt.tight_layout()\n",
        "    \n",
        "    plt.ylabel('True label', fontsize = 12)\n",
        "    plt.xlabel('Predicted label', fontsize = 12)\n",
        "  "
      ],
      "execution_count": null,
      "outputs": []
    },
    {
      "cell_type": "code",
      "metadata": {
        "colab": {
          "base_uri": "https://localhost:8080/",
          "height": 582
        },
        "id": "V0PTXLLeR3sZ",
        "outputId": "701e72fa-6cb6-4d7b-80db-99c6f72f63d0"
      },
      "source": [
        "cf_matrix, accuracy, macro_f1, mismatch, y_pred = calculate_metrics(model, x_test, y_test)\n",
        "\n",
        "print('Accuracy : {}'.format(accuracy))\n",
        "print('F1-score : {}'.format(macro_f1))\n",
        "\n",
        "plot_confusion_matrix(cf_matrix, classes,\n",
        "                          normalize=True,\n",
        "                          title='Confusion matrix',\n",
        "                          cmap=plt.cm.Blues)"
      ],
      "execution_count": null,
      "outputs": [
        {
          "output_type": "stream",
          "text": [
            "Accuracy : 0.869\n",
            "F1-score : 0.8683100113942105\n",
            "Normalized confusion matrix\n"
          ],
          "name": "stdout"
        },
        {
          "output_type": "display_data",
          "data": {
            "image/png": "[encoded data removed]",
            "text/plain": [
              "<Figure size 720x504 with 2 Axes>"
            ]
          },
          "metadata": {
            "tags": [],
            "needs_background": "light"
          }
        }
      ]
    },
    {
      "cell_type": "markdown",
      "metadata": {
        "id": "2TV4y7VnJTnb"
      },
      "source": [
        "# LIME"
      ]
    },
    {
      "cell_type": "code",
      "metadata": {
        "scrolled": false,
        "colab": {
          "base_uri": "https://localhost:8080/",
          "height": 1000,
          "referenced_widgets": [
            "cb9ea2386fa942629d563af7e5ee3fc6",
            "0abdc898136949a9858c9cebb0be15db",
            "0c9d6640b82945bbb3b576c1c48eba8f",
            "be45d4f5d82b42de8666d4d5790238a4",
            "acc788b4ae524b10b9af778c1c38aa1d",
            "cf5e699a195b4257b1ab78bfa13b315a",
            "2e6918a20b744ec8bca66a312ac3b329",
            "ce24184cc24f459b9202701b7029f8f1",
            "b3df658725084f44a8ba66ae793af93d",
            "52386daf81054bd48b20b796c44cdcb8",
            "bc57f8939cd94446a07d77e766893b95",
            "318b72b595c8474ca3fa537153fd2aea",
            "6c2de3bc46f44c2bb2a8bbb9ddcf6b1e",
            "a6b25cb995a3465c8f6898cdeb833204",
            "6dc715513bdb40ae81d5265d61d15e6d",
            "341c213fcc454c12af287d5c1baa1be0",
            "12f0e5bd66ca4c88b9b41722dd6f507c",
            "11c3ecff455f43ce802c7d7d3b39978a",
            "d1dbaca066914f53972a9046ae85020c",
            "f4514b21f7d049ea9545cacceac05eb6",
            "a561822d0f854543896f60ff14fc7fe0",
            "1e8511160960421d88856570b012b520",
            "fecc2b56dc8a462a8179f3963cf0cd08",
            "9cdb2ce0172f4f44825da919e41e6ef8",
            "88806efa777342e8ba86bc65f765e98b",
            "cbb43e281e234006923a20b17d0c199d",
            "b4491b5e9e014e898675c977034d2b94",
            "ecfc43b5487545d788b2cfb8aa830c90",
            "7b5044eae7764fff966136266a6d7db3",
            "9179bf8c20ef48a7a4cb659edf855abf",
            "a6d86f4e086f4bbb9868c1a8b37801f3",
            "b786f3136b7f418fb8280937174ee56d",
            "2b12bbd1ac7c4a58bc861d8c6836175a",
            "e7237b50de474218a04171a43051ae21",
            "056862fb28cf4fe4a90561214ca171ea",
            "679812e67fd74bbb9d1aaa8d13774a19",
            "a37765d8d6804ae1ac15377c3235deb5",
            "f32de01625244aa9bc6f8f1118600eef",
            "f07b762b46664c7aafe59564c108fd2f",
            "9aa4d71413db478b938276e3d1321e5a"
          ]
        },
        "id": "nyzDLccNJTnc",
        "outputId": "4063b8c9-2506-4b50-8f81-dafa374caa79"
      },
      "source": [
        "explainer = lime_image.LimeImageExplainer()\n",
        "\n",
        "segmentation_fn = SegmentationAlgorithm('felzenszwalb', scale=10,\n",
        "                                                    sigma=0.4, min_size=20)\n",
        "\n",
        "for i in all_idx:\n",
        "    image = x_test[i]\n",
        "    to_explain = np.expand_dims(image,axis=0)\n",
        "    class_idx = np.argmax(model.predict(to_explain))\n",
        "    print(inv_class_dict[class_idx])\n",
        "    \n",
        "    # Hide color is the color for a superpixel turned OFF. \n",
        "    # Alternatively, if it is NONE, the superpixel will be replaced by the average of its pixels\n",
        "    explanation = explainer.explain_instance(image, model.predict,segmentation_fn = segmentation_fn,\n",
        "                                             top_labels=5, hide_color=0, num_samples=1000)\n",
        "\n",
        "    temp, mask = explanation.get_image_and_mask(explanation.top_labels[0],\n",
        "                                                positive_only=True, num_features=5, hide_rest=True)\n",
        "    \n",
        "    #Plotting\n",
        "    fig, axes1 = plt.subplots(1,2, figsize=(10,10))\n",
        "    # fig.suptitle(inv_class_dict[y_test[i]])\n",
        "    axes1[0].set_axis_off()\n",
        "    axes1[1].set_axis_off()\n",
        "    axes1[0].imshow(x_test[i], interpolation='nearest')\n",
        "    axes1[1].imshow(mark_boundaries(temp, mask), interpolation='nearest')\n",
        "    # plt.savefig(f'./image/image-{i}-lime',bbox_inches = 'tight', pad_inches = 0.5)\n",
        "    plt.show()"
      ],
      "execution_count": null,
      "outputs": [
        {
          "output_type": "stream",
          "text": [
            "truck\n"
          ],
          "name": "stdout"
        },
        {
          "output_type": "display_data",
          "data": {
            "application/vnd.jupyter.widget-view+json": {
              "model_id": "cb9ea2386fa942629d563af7e5ee3fc6",
              "version_minor": 0,
              "version_major": 2
            },
            "text/plain": [
              "HBox(children=(FloatProgress(value=0.0, max=1000.0), HTML(value='')))"
            ]
          },
          "metadata": {
            "tags": []
          }
        },
        {
          "output_type": "stream",
          "text": [
            "\n"
          ],
          "name": "stdout"
        },
        {
          "output_type": "display_data",
          "data": {
            "image/png": "[encoded data removed]",
            "text/plain": [
              "<Figure size 720x720 with 2 Axes>"
            ]
          },
          "metadata": {
            "tags": [],
            "needs_background": "light"
          }
        },
        {
          "output_type": "stream",
          "text": [
            "cat\n"
          ],
          "name": "stdout"
        },
        {
          "output_type": "display_data",
          "data": {
            "application/vnd.jupyter.widget-view+json": {
              "model_id": "b3df658725084f44a8ba66ae793af93d",
              "version_minor": 0,
              "version_major": 2
            },
            "text/plain": [
              "HBox(children=(FloatProgress(value=0.0, max=1000.0), HTML(value='')))"
            ]
          },
          "metadata": {
            "tags": []
          }
        },
        {
          "output_type": "stream",
          "text": [
            "\n"
          ],
          "name": "stdout"
        },
        {
          "output_type": "display_data",
          "data": {
            "image/png": "[encoded data removed]",
            "text/plain": [
              "<Figure size 720x720 with 2 Axes>"
            ]
          },
          "metadata": {
            "tags": [],
            "needs_background": "light"
          }
        },
        {
          "output_type": "stream",
          "text": [
            "automobile\n"
          ],
          "name": "stdout"
        },
        {
          "output_type": "display_data",
          "data": {
            "application/vnd.jupyter.widget-view+json": {
              "model_id": "12f0e5bd66ca4c88b9b41722dd6f507c",
              "version_minor": 0,
              "version_major": 2
            },
            "text/plain": [
              "HBox(children=(FloatProgress(value=0.0, max=1000.0), HTML(value='')))"
            ]
          },
          "metadata": {
            "tags": []
          }
        },
        {
          "output_type": "stream",
          "text": [
            "\n"
          ],
          "name": "stdout"
        },
        {
          "output_type": "display_data",
          "data": {
            "image/png": "[encoded data removed]",
            "text/plain": [
              "<Figure size 720x720 with 2 Axes>"
            ]
          },
          "metadata": {
            "tags": [],
            "needs_background": "light"
          }
        },
        {
          "output_type": "stream",
          "text": [
            "frog\n"
          ],
          "name": "stdout"
        },
        {
          "output_type": "display_data",
          "data": {
            "application/vnd.jupyter.widget-view+json": {
              "model_id": "88806efa777342e8ba86bc65f765e98b",
              "version_minor": 0,
              "version_major": 2
            },
            "text/plain": [
              "HBox(children=(FloatProgress(value=0.0, max=1000.0), HTML(value='')))"
            ]
          },
          "metadata": {
            "tags": []
          }
        },
        {
          "output_type": "stream",
          "text": [
            "\n"
          ],
          "name": "stdout"
        },
        {
          "output_type": "display_data",
          "data": {
            "image/png": "[encoded data removed]",
            "text/plain": [
              "<Figure size 720x720 with 2 Axes>"
            ]
          },
          "metadata": {
            "tags": [],
            "needs_background": "light"
          }
        },
        {
          "output_type": "stream",
          "text": [
            "frog\n"
          ],
          "name": "stdout"
        },
        {
          "output_type": "display_data",
          "data": {
            "application/vnd.jupyter.widget-view+json": {
              "model_id": "2b12bbd1ac7c4a58bc861d8c6836175a",
              "version_minor": 0,
              "version_major": 2
            },
            "text/plain": [
              "HBox(children=(FloatProgress(value=0.0, max=1000.0), HTML(value='')))"
            ]
          },
          "metadata": {
            "tags": []
          }
        },
        {
          "output_type": "stream",
          "text": [
            "\n"
          ],
          "name": "stdout"
        },
        {
          "output_type": "display_data",
          "data": {
            "image/png": "[encoded data removed]",
            "text/plain": [
              "<Figure size 720x720 with 2 Axes>"
            ]
          },
          "metadata": {
            "tags": [],
            "needs_background": "light"
          }
        }
      ]
    },
    {
      "cell_type": "markdown",
      "metadata": {
        "id": "ntZvYihcJTnd"
      },
      "source": [
        "# Anchor Explanations"
      ]
    },
    {
      "cell_type": "code",
      "metadata": {
        "id": "ilYgVQMkJTne"
      },
      "source": [
        "# Define a Prediction Function\n",
        "predict_fn = lambda x: model.predict(x)\n",
        "\n",
        "image_shape = (32,32,3)\n",
        "segmentation_fn = 'felzenszwalb'\n",
        "slic_kwargs = {'n_segments': 100, 'compactness': 1, 'sigma': .5, 'max_iter': 50}\n",
        "felzenszwalb_kwargs = {'scale': 10, 'sigma': 0.4, 'min_size': 50}\n",
        "\n",
        "explainer = AnchorImage(predict_fn, image_shape, segmentation_fn=segmentation_fn,\n",
        "                        segmentation_kwargs=felzenszwalb_kwargs, images_background=None)"
      ],
      "execution_count": null,
      "outputs": []
    },
    {
      "cell_type": "code",
      "metadata": {
        "colab": {
          "base_uri": "https://localhost:8080/",
          "height": 1000
        },
        "id": "Ro7iPKCnJTnf",
        "outputId": "19ca0ca7-616b-4a31-b4ac-dce65f6980d6"
      },
      "source": [
        "for i in all_idx:\n",
        "\n",
        "    image = x_test[i]\n",
        "    to_explain = np.expand_dims(image,axis=0)\n",
        "    class_idx = np.argmax(model.predict(to_explain))\n",
        "    print(inv_class_dict[class_idx])\n",
        "    \n",
        "    explanation = explainer.explain(image, threshold=.99, p_sample=0.5, tau=0.15)\n",
        "    \n",
        "    ## Plotting\n",
        "    fig, axes1 = plt.subplots(1,2, figsize=(10,10))\n",
        "    # fig.suptitle(inv_class_dict[y_test[i]])\n",
        "    axes1[0].set_axis_off()\n",
        "    axes1[1].set_axis_off()\n",
        "    axes1[0].imshow(x_test[i], interpolation='nearest')\n",
        "    axes1[1].imshow(explanation['anchor'], interpolation='nearest')\n",
        "    # plt.savefig(f'./image-{i}-anchor', bbox_inches = 'tight', pad_inches = 0.5)\n",
        "    plt.show()"
      ],
      "execution_count": null,
      "outputs": [
        {
          "output_type": "stream",
          "text": [
            "truck\n"
          ],
          "name": "stdout"
        },
        {
          "output_type": "stream",
          "text": [
            "The Explanation object is not a dictionary anymore and accessing elements should be done via attribute access. Accessing via item will stop working in a future version.\n"
          ],
          "name": "stderr"
        },
        {
          "output_type": "display_data",
          "data": {
            "image/png": "[encoded data removed]",
            "text/plain": [
              "<Figure size 720x720 with 2 Axes>"
            ]
          },
          "metadata": {
            "tags": [],
            "needs_background": "light"
          }
        },
        {
          "output_type": "stream",
          "text": [
            "cat\n"
          ],
          "name": "stdout"
        },
        {
          "output_type": "display_data",
          "data": {
            "image/png": "[encoded data removed]",
            "text/plain": [
              "<Figure size 720x720 with 2 Axes>"
            ]
          },
          "metadata": {
            "tags": [],
            "needs_background": "light"
          }
        },
        {
          "output_type": "stream",
          "text": [
            "automobile\n"
          ],
          "name": "stdout"
        },
        {
          "output_type": "display_data",
          "data": {
            "image/png": "[encoded data removed]",
            "text/plain": [
              "<Figure size 720x720 with 2 Axes>"
            ]
          },
          "metadata": {
            "tags": [],
            "needs_background": "light"
          }
        },
        {
          "output_type": "stream",
          "text": [
            "frog\n"
          ],
          "name": "stdout"
        },
        {
          "output_type": "display_data",
          "data": {
            "image/png": "[encoded data removed]",
            "text/plain": [
              "<Figure size 720x720 with 2 Axes>"
            ]
          },
          "metadata": {
            "tags": [],
            "needs_background": "light"
          }
        },
        {
          "output_type": "stream",
          "text": [
            "frog\n"
          ],
          "name": "stdout"
        },
        {
          "output_type": "display_data",
          "data": {
            "image/png": "[encoded data removed]",
            "text/plain": [
              "<Figure size 720x720 with 2 Axes>"
            ]
          },
          "metadata": {
            "tags": [],
            "needs_background": "light"
          }
        }
      ]
    },
    {
      "cell_type": "markdown",
      "metadata": {
        "id": "3OHzLJzmW9cL"
      },
      "source": [
        "# SHAP"
      ]
    },
    {
      "cell_type": "code",
      "metadata": {
        "id": "jxE2FxI7W_Im"
      },
      "source": [
        "background = x_train[np.random.choice(x_train.shape[0], 1000, replace=False)]\n",
        "\n",
        "# map input to specified layer \n",
        "def map2layer(x, layer):\n",
        "    feed_dict = dict(zip([model.layers[0].input], x.reshape((1,) + x.shape)))\n",
        "    return K.get_session().run(model.layers[layer].input, feed_dict)\n",
        "\n",
        "def get_shap_full(idx):\n",
        "    layer = 14\n",
        "    to_explain = np.expand_dims(x_test[idx],axis=0)\n",
        "    class_idx = np.argmax(model.predict(to_explain))\n",
        "    print(inv_class_dict[class_idx])\n",
        "\n",
        "    # get shap values\n",
        "    e = shap.GradientExplainer((model.layers[layer].input, model.layers[-1].output), map2layer(background, layer))\n",
        "    shap_values,indexes = e.shap_values(map2layer(to_explain, layer), ranked_outputs=1)\n",
        "\n",
        "    # use SHAP plot\n",
        "    shap.image_plot(shap_values, to_explain, show=False)\n",
        "\n",
        "    # plt.savefig('./image/image-' + str(idx) + '-shap.png', bbox_inches='tight')\n"
      ],
      "execution_count": null,
      "outputs": []
    },
    {
      "cell_type": "code",
      "metadata": {
        "colab": {
          "base_uri": "https://localhost:8080/",
          "height": 1000
        },
        "id": "X9-HrJD4RBol",
        "outputId": "1998da25-5ff1-4627-a390-9b38b3250309"
      },
      "source": [
        "for i in all_idx:\n",
        "    get_shap_full(i)"
      ],
      "execution_count": null,
      "outputs": [
        {
          "output_type": "stream",
          "text": [
            "truck\n",
            "cat\n",
            "automobile\n",
            "frog\n",
            "frog\n"
          ],
          "name": "stdout"
        },
        {
          "output_type": "display_data",
          "data": {
            "image/png": "[encoded data removed]",
            "text/plain": [
              "<Figure size 432x360 with 3 Axes>"
            ]
          },
          "metadata": {
            "tags": [],
            "needs_background": "light"
          }
        },
        {
          "output_type": "display_data",
          "data": {
            "image/png": "[encoded data removed]",
            "text/plain": [
              "<Figure size 432x360 with 3 Axes>"
            ]
          },
          "metadata": {
            "tags": [],
            "needs_background": "light"
          }
        },
        {
          "output_type": "display_data",
          "data": {
            "image/png": "[encoded data removed]",
            "text/plain": [
              "<Figure size 432x360 with 3 Axes>"
            ]
          },
          "metadata": {
            "tags": [],
            "needs_background": "light"
          }
        },
        {
          "output_type": "display_data",
          "data": {
            "image/png": "[encoded data removed]",
            "text/plain": [
              "<Figure size 432x360 with 3 Axes>"
            ]
          },
          "metadata": {
            "tags": [],
            "needs_background": "light"
          }
        },
        {
          "output_type": "display_data",
          "data": {
            "image/png": "[encoded data removed]",
            "text/plain": [
              "<Figure size 432x360 with 3 Axes>"
            ]
          },
          "metadata": {
            "tags": [],
            "needs_background": "light"
          }
        }
      ]
    },
    {
      "cell_type": "markdown",
      "metadata": {
        "id": "mvySTGeXDQAr"
      },
      "source": [
        "# Saliency Map"
      ]
    },
    {
      "cell_type": "code",
      "metadata": {
        "id": "qE8jLc6VZ5NB"
      },
      "source": [
        "# Replace activation with linear\n",
        "new_model = clone_model(model)\n",
        "new_model.pop()\n",
        "new_model.add(Activation('linear', name=\"linear_p\"))"
      ],
      "execution_count": null,
      "outputs": []
    },
    {
      "cell_type": "code",
      "metadata": {
        "colab": {
          "base_uri": "https://localhost:8080/"
        },
        "id": "NXJkzjZQsqD8",
        "outputId": "de3f74d9-4491-4130-d710-117a0e551a97"
      },
      "source": [
        "new_model.summary()"
      ],
      "execution_count": null,
      "outputs": [
        {
          "output_type": "stream",
          "text": [
            "Model: \"CNN\"\n",
            "_________________________________________________________________\n",
            "Layer (type)                 Output Shape              Param #   \n",
            "=================================================================\n",
            "Conv_1 (Conv2D)              (None, 32, 32, 32)        896       \n",
            "_________________________________________________________________\n",
            "Bn_1 (BatchNormalization)    (None, 32, 32, 32)        128       \n",
            "_________________________________________________________________\n",
            "Conv_2 (Conv2D)              (None, 32, 32, 32)        9248      \n",
            "_________________________________________________________________\n",
            "Bn_2 (BatchNormalization)    (None, 32, 32, 32)        128       \n",
            "_________________________________________________________________\n",
            "Max_pool_1 (MaxPooling2D)    (None, 16, 16, 32)        0         \n",
            "_________________________________________________________________\n",
            "Drop_1 (Dropout)             (None, 16, 16, 32)        0         \n",
            "_________________________________________________________________\n",
            "Conv_3 (Conv2D)              (None, 16, 16, 64)        18496     \n",
            "_________________________________________________________________\n",
            "Bn_3 (BatchNormalization)    (None, 16, 16, 64)        256       \n",
            "_________________________________________________________________\n",
            "Conv_4 (Conv2D)              (None, 16, 16, 64)        36928     \n",
            "_________________________________________________________________\n",
            "Bn_4 (BatchNormalization)    (None, 16, 16, 64)        256       \n",
            "_________________________________________________________________\n",
            "Max_pool_2 (MaxPooling2D)    (None, 8, 8, 64)          0         \n",
            "_________________________________________________________________\n",
            "Drop_2 (Dropout)             (None, 8, 8, 64)          0         \n",
            "_________________________________________________________________\n",
            "Conv_5 (Conv2D)              (None, 8, 8, 128)         73856     \n",
            "_________________________________________________________________\n",
            "Bn_5 (BatchNormalization)    (None, 8, 8, 128)         512       \n",
            "_________________________________________________________________\n",
            "Conv_6 (Conv2D)              (None, 8, 8, 128)         147584    \n",
            "_________________________________________________________________\n",
            "Bn_6 (BatchNormalization)    (None, 8, 8, 128)         512       \n",
            "_________________________________________________________________\n",
            "Max_pool_3 (MaxPooling2D)    (None, 4, 4, 128)         0         \n",
            "_________________________________________________________________\n",
            "Drop_3 (Dropout)             (None, 4, 4, 128)         0         \n",
            "_________________________________________________________________\n",
            "Flatten_1 (Flatten)          (None, 2048)              0         \n",
            "_________________________________________________________________\n",
            "dense (Dense)                (None, 32)                65568     \n",
            "_________________________________________________________________\n",
            "Bn_7 (BatchNormalization)    (None, 32)                128       \n",
            "_________________________________________________________________\n",
            "Drop_4 (Dropout)             (None, 32)                0         \n",
            "_________________________________________________________________\n",
            "logits (Dense)               (None, 10)                330       \n",
            "_________________________________________________________________\n",
            "linear_p (Activation)        (None, 10)                0         \n",
            "=================================================================\n",
            "Total params: 354,826\n",
            "Trainable params: 353,866\n",
            "Non-trainable params: 960\n",
            "_________________________________________________________________\n"
          ],
          "name": "stdout"
        }
      ]
    },
    {
      "cell_type": "code",
      "metadata": {
        "id": "2YkJf_3pZ1x9"
      },
      "source": [
        "def plot_map(img_index, class_idx, grads):\n",
        "    print(inv_class_dict[class_idx])\n",
        "    fig, axes = plt.subplots(ncols=2,figsize=(8,6))\n",
        "    axes[0].imshow(x_test[img_index])\n",
        "    axes[0].axis('off')\n",
        "    axes[1].imshow(x_test[img_index])\n",
        "    axes[1].axis('off')\n",
        "    i = axes[1].imshow(grads,cmap=\"jet\",alpha=0.6)\n",
        "    fig.subplots_adjust(right=0.9)\n",
        "    cbar_ax = fig.add_axes([1, 0.2, 0.04, 0.59])\n",
        "    fig.colorbar(i, cax=cbar_ax)\n",
        "    \n",
        "    # plt.savefig('./image/image-' + str(img_index) + '-saliencymap.png', bbox_inches='tight', pad_inches=0.3)\n",
        "    # plt.close(fig)\n",
        "\n",
        "    plt.show()\n"
      ],
      "execution_count": null,
      "outputs": []
    },
    {
      "cell_type": "code",
      "metadata": {
        "id": "0cyg1Tnlmrii"
      },
      "source": [
        "def getSaliencyMap(img_index):\n",
        "    \n",
        "    to_explain = x_test[img_index].reshape(1,32,32,3)\n",
        "    class_idx = np.argmax(model.predict(to_explain))\n",
        "    print(class_idx)\n",
        "    print(x_test[img_index].shape)\n",
        "\n",
        "    grads = visualize_saliency(new_model,\n",
        "                              14,\n",
        "                              filter_indices = None,\n",
        "                              seed_input = x_test[img_index])\n",
        "    #plot_map(img_index, class_idx , grads)"
      ],
      "execution_count": null,
      "outputs": []
    },
    {
      "cell_type": "code",
      "metadata": {
        "colab": {
          "base_uri": "https://localhost:8080/",
          "height": 199
        },
        "id": "AyZZ-iNfT5Wh",
        "outputId": "2eba58fa-4753-4e61-efa1-4b1dde195fcf"
      },
      "source": [
        "for i in all_idx:\n",
        "    getSaliencyMap(i)\n",
        "# getSaliencyMap(0)"
      ],
      "execution_count": null,
      "outputs": [
        {
          "output_type": "error",
          "ename": "NameError",
          "evalue": "ignored",
          "traceback": [
            "\u001b[0;31m---------------------------------------------------------------------------\u001b[0m",
            "\u001b[0;31mNameError\u001b[0m                                 Traceback (most recent call last)",
            "\u001b[0;32m<ipython-input-2-dac8502243e2>\u001b[0m in \u001b[0;36m<module>\u001b[0;34m\u001b[0m\n\u001b[0;32m----> 1\u001b[0;31m \u001b[0;32mfor\u001b[0m \u001b[0mi\u001b[0m \u001b[0;32min\u001b[0m \u001b[0mall_idx\u001b[0m\u001b[0;34m:\u001b[0m\u001b[0;34m\u001b[0m\u001b[0;34m\u001b[0m\u001b[0m\n\u001b[0m\u001b[1;32m      2\u001b[0m     \u001b[0mgetSaliencyMap\u001b[0m\u001b[0;34m(\u001b[0m\u001b[0mi\u001b[0m\u001b[0;34m)\u001b[0m\u001b[0;34m\u001b[0m\u001b[0;34m\u001b[0m\u001b[0m\n\u001b[1;32m      3\u001b[0m \u001b[0;31m# getSaliencyMap(0)\u001b[0m\u001b[0;34m\u001b[0m\u001b[0;34m\u001b[0m\u001b[0;34m\u001b[0m\u001b[0m\n",
            "\u001b[0;31mNameError\u001b[0m: name 'all_idx' is not defined"
          ]
        }
      ]
    },
    {
      "cell_type": "markdown",
      "metadata": {
        "id": "Y2lNBrWl28uX"
      },
      "source": [
        "# Grad-Cam++"
      ]
    },
    {
      "cell_type": "code",
      "metadata": {
        "id": "kvlXIHLO28VQ"
      },
      "source": [
        "def get_gradcampp(idx):\n",
        "    img = x_test[idx]\n",
        "    cls_true = np.argmax(y_test[idx])\n",
        "    \n",
        "    x = np.expand_dims(img, axis=0)\n",
        "\n",
        "    # get cam\n",
        "    cls_pred, cam = grad_cam_plus_plus(model=model, x=x, layer_name=\"Conv_6\")\n",
        "    print(inv_class_dict[cls_pred])\n",
        "\n",
        "    # resize to to size of image\n",
        "    heatmap = cv2.resize(cam, (img.shape[1], img.shape[0]))\n",
        "\n",
        "    fig, axes = plt.subplots(ncols=2,figsize=(8,6))\n",
        "    axes[0].imshow(img)\n",
        "    axes[0].axis('off')\n",
        "    axes[1].imshow(img)\n",
        "    axes[1].axis('off')\n",
        "    i = axes[1].imshow(heatmap,cmap=\"jet\",alpha=0.6)\n",
        "    fig.subplots_adjust(right=0.9)\n",
        "    cbar_ax = fig.add_axes([1, 0.2, 0.04, 0.60])\n",
        "    fig.colorbar(i, cax=cbar_ax)\n",
        "\n",
        "    # plt.savefig('./image/image-' + str(idx) + '-gradcampp.png', bbox_inches='tight', pad_inches=0.3)\n",
        "    # plt.close(fig)\n",
        "    plt.show()\n",
        "\n",
        "def grad_cam_plus_plus(model, x, layer_name):   \n",
        "    cls = np.argmax(model.predict(x))\n",
        "    y_c = model.output[0, cls]\n",
        "    conv_output = model.get_layer(layer_name).output\n",
        "    grads = K.gradients(y_c, conv_output)[0]\n",
        "\n",
        "    first = K.exp(y_c) * grads\n",
        "    second = K.exp(y_c) * grads * grads\n",
        "    third = K.exp(y_c) * grads * grads * grads\n",
        "\n",
        "    gradient_function = K.function([model.input], [y_c, first, second, third, conv_output, grads])\n",
        "    y_c, conv_first_grad, conv_second_grad, conv_third_grad, conv_output, grads_val = gradient_function([x])\n",
        "    global_sum = np.sum(conv_output[0].reshape((-1,conv_first_grad[0].shape[2])), axis=0)\n",
        "\n",
        "    alpha_num = conv_second_grad[0]\n",
        "    alpha_denom = conv_second_grad[0] * 2.0 + conv_third_grad[0] * global_sum.reshape((1, 1, conv_first_grad[0].shape[2]))\n",
        "    alpha_denom = np.where(alpha_denom != 0.0, alpha_denom, np.ones(alpha_denom.shape))\n",
        "    alphas = alpha_num / alpha_denom\n",
        "\n",
        "    weights = np.maximum(conv_first_grad[0], 0.0)\n",
        "    alpha_normalization_constant = np.sum(np.sum(alphas, axis=0), axis=0) # 0\n",
        "    alphas /= alpha_normalization_constant.reshape((1, 1, conv_first_grad[0].shape[2])) # NAN\n",
        "    deep_linearization_weights = np.sum((weights * alphas).reshape((-1, conv_first_grad[0].shape[2])), axis=0)\n",
        "\n",
        "    cam = np.sum(deep_linearization_weights * conv_output[0], axis=2)\n",
        "    cam = np.maximum(cam, 0)\n",
        "    cam /= np.max(cam)\n",
        "\n",
        "    return cls, cam"
      ],
      "execution_count": null,
      "outputs": []
    },
    {
      "cell_type": "code",
      "metadata": {
        "colab": {
          "base_uri": "https://localhost:8080/",
          "height": 1000
        },
        "id": "skOsvfMubgfc",
        "outputId": "f065b704-8323-4c9a-bb15-ca5596b28c83"
      },
      "source": [
        "for i in all_idx:\n",
        "    get_gradcampp(i)"
      ],
      "execution_count": null,
      "outputs": [
        {
          "output_type": "stream",
          "text": [
            "truck\n"
          ],
          "name": "stdout"
        },
        {
          "output_type": "display_data",
          "data": {
            "image/png": "[encoded data removed]",
            "text/plain": [
              "<Figure size 576x432 with 3 Axes>"
            ]
          },
          "metadata": {
            "tags": [],
            "needs_background": "light"
          }
        },
        {
          "output_type": "stream",
          "text": [
            "cat\n"
          ],
          "name": "stdout"
        },
        {
          "output_type": "display_data",
          "data": {
            "image/png": "[encoded data removed]",
            "text/plain": [
              "<Figure size 576x432 with 3 Axes>"
            ]
          },
          "metadata": {
            "tags": [],
            "needs_background": "light"
          }
        },
        {
          "output_type": "stream",
          "text": [
            "automobile\n"
          ],
          "name": "stdout"
        },
        {
          "output_type": "display_data",
          "data": {
            "image/png": "[encoded data removed]",
            "text/plain": [
              "<Figure size 576x432 with 3 Axes>"
            ]
          },
          "metadata": {
            "tags": [],
            "needs_background": "light"
          }
        },
        {
          "output_type": "stream",
          "text": [
            "frog\n"
          ],
          "name": "stdout"
        },
        {
          "output_type": "display_data",
          "data": {
            "image/png": "[encoded data removed]",
            "text/plain": [
              "<Figure size 576x432 with 3 Axes>"
            ]
          },
          "metadata": {
            "tags": [],
            "needs_background": "light"
          }
        },
        {
          "output_type": "stream",
          "text": [
            "frog\n"
          ],
          "name": "stdout"
        },
        {
          "output_type": "display_data",
          "data": {
            "image/png": "[encoded data removed]",
            "text/plain": [
              "<Figure size 576x432 with 3 Axes>"
            ]
          },
          "metadata": {
            "tags": [],
            "needs_background": "light"
          }
        }
      ]
    },
    {
      "cell_type": "markdown",
      "metadata": {
        "id": "HNuIdsZwJTnr"
      },
      "source": [
        "# ExMatchina"
      ]
    },
    {
      "cell_type": "code",
      "metadata": {
        "id": "7Uypp7xjJTnr"
      },
      "source": [
        "def plot_images(test, examples, label):\n",
        "        # =======GENERATE STUDY EXAMPLES=========\n",
        "    fig = plt.figure(figsize=(10,3))\n",
        "    num_display = 4\n",
        "    fig.add_subplot(1, num_display, 1).title.set_text(inv_class_dict[label])\n",
        "    plt.imshow(test, interpolation='nearest')\n",
        "    plt.axis('off')\n",
        "    line = fig.add_subplot(1, 1, 1)\n",
        "    line.plot([2.39,2.39],[0,1],'--')\n",
        "    line.set_xlim(0,10)\n",
        "    line.axis('off')\n",
        "    for k in range(num_display-1):\n",
        "        if k >= len(examples):\n",
        "            continue\n",
        "        fig.add_subplot(1,num_display,k+2).title.set_text(inv_class_dict[label])\n",
        "        fig.add_subplot(1,num_display,k+2).title.set_color('#0067FF')\n",
        "        plt.imshow(examples[k], interpolation='nearest')\n",
        "        plt.axis('off')\n",
        "    \n",
        "    fig.tight_layout()\n",
        "    plt.tight_layout()\n",
        "    plt.show()\n",
        "    # plt.savefig('./image-' + str(i) + '-example.png', bbox_inches='tight')"
      ],
      "execution_count": null,
      "outputs": []
    },
    {
      "cell_type": "code",
      "metadata": {
        "colab": {
          "base_uri": "https://localhost:8080/"
        },
        "id": "IJMEhQBQJTns",
        "outputId": "5c7ea03c-7235-4101-85ce-eca7fa3748af"
      },
      "source": [
        "selected_layer = 'Flatten_1'\n",
        "\n",
        "exm = ExMatchina(model=model, layer=selected_layer, examples=x_train)"
      ],
      "execution_count": null,
      "outputs": [
        {
          "output_type": "stream",
          "text": [
            "Getting activations...\n",
            "Getting labels...\n",
            "Generating activation matrix...\n"
          ],
          "name": "stdout"
        }
      ]
    },
    {
      "cell_type": "code",
      "metadata": {
        "colab": {
          "base_uri": "https://localhost:8080/",
          "height": 1000
        },
        "id": "92aVRzvoJTnt",
        "outputId": "2cb240fb-e3d0-41af-b77a-df488f0a7430"
      },
      "source": [
        "for test_idx in all_idx:\n",
        "    test_input = x_test[test_idx]\n",
        "    label = exm.get_label_for(test_input)\n",
        "    (examples, indices) = exm.return_nearest_examples(test_input)\n",
        "    plot_images(test_input, examples, label)"
      ],
      "execution_count": null,
      "outputs": [
        {
          "output_type": "stream",
          "text": [
            "Adding an axes using the same arguments as a previous axes currently reuses the earlier instance.  In a future version, a new instance will always be created and returned.  Meanwhile, this warning can be suppressed, and the future behavior ensured, by passing a unique label to each axes instance.\n"
          ],
          "name": "stderr"
        },
        {
          "output_type": "display_data",
          "data": {
            "image/png": "[encoded data removed]",
            "text/plain": [
              "<Figure size 720x216 with 5 Axes>"
            ]
          },
          "metadata": {
            "tags": [],
            "needs_background": "light"
          }
        },
        {
          "output_type": "stream",
          "text": [
            "Adding an axes using the same arguments as a previous axes currently reuses the earlier instance.  In a future version, a new instance will always be created and returned.  Meanwhile, this warning can be suppressed, and the future behavior ensured, by passing a unique label to each axes instance.\n"
          ],
          "name": "stderr"
        },
        {
          "output_type": "display_data",
          "data": {
            "image/png": "[encoded data removed]",
            "text/plain": [
              "<Figure size 720x216 with 5 Axes>"
            ]
          },
          "metadata": {
            "tags": [],
            "needs_background": "light"
          }
        },
        {
          "output_type": "stream",
          "text": [
            "Adding an axes using the same arguments as a previous axes currently reuses the earlier instance.  In a future version, a new instance will always be created and returned.  Meanwhile, this warning can be suppressed, and the future behavior ensured, by passing a unique label to each axes instance.\n"
          ],
          "name": "stderr"
        },
        {
          "output_type": "display_data",
          "data": {
            "image/png": "[encoded data removed]",
            "text/plain": [
              "<Figure size 720x216 with 5 Axes>"
            ]
          },
          "metadata": {
            "tags": [],
            "needs_background": "light"
          }
        },
        {
          "output_type": "stream",
          "text": [
            "Adding an axes using the same arguments as a previous axes currently reuses the earlier instance.  In a future version, a new instance will always be created and returned.  Meanwhile, this warning can be suppressed, and the future behavior ensured, by passing a unique label to each axes instance.\n"
          ],
          "name": "stderr"
        },
        {
          "output_type": "display_data",
          "data": {
            "image/png": "[encoded data removed]",
            "text/plain": [
              "<Figure size 720x216 with 5 Axes>"
            ]
          },
          "metadata": {
            "tags": [],
            "needs_background": "light"
          }
        },
        {
          "output_type": "stream",
          "text": [
            "Adding an axes using the same arguments as a previous axes currently reuses the earlier instance.  In a future version, a new instance will always be created and returned.  Meanwhile, this warning can be suppressed, and the future behavior ensured, by passing a unique label to each axes instance.\n"
          ],
          "name": "stderr"
        },
        {
          "output_type": "display_data",
          "data": {
            "image/png": "[encoded data removed]",
            "text/plain": [
              "<Figure size 720x216 with 5 Axes>"
            ]
          },
          "metadata": {
            "tags": [],
            "needs_background": "light"
          }
        }
      ]
    }
  ]
}