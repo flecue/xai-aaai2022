{
  "nbformat": 4,
  "nbformat_minor": 0,
  "metadata": {
    "colab": {
      "name": "XAI_IntegratedGradient_Graph.ipynb",
      "provenance": [],
      "collapsed_sections": [],
      "include_colab_link": true
    },
    "kernelspec": {
      "name": "python3",
      "display_name": "Python 3"
    }
  },
  "cells": [
    {
      "cell_type": "markdown",
      "metadata": {
        "id": "view-in-github",
        "colab_type": "text"
      },
      "source": [
        "<a href=\"https://colab.research.google.com/github/flecue/xai-aaai2021/blob/main/XAI_IntegratedGradient_Graph.ipynb\" target=\"_parent\"><img src=\"https://colab.research.google.com/assets/colab-badge.svg\" alt=\"Open In Colab\"/></a>"
      ]
    },
    {
      "cell_type": "markdown",
      "metadata": {
        "id": "sxUkbV0hJlov"
      },
      "source": [
        "CREDITS: https://colab.research.google.com/drive/1fLJbFPz0yMCQg81DdCP5I8jXw9LoggKO?usp=sharing\n",
        "\n",
        "Used as part of AAAI 2021 Tutorial on XAI - https://xaitutorial2021.github.io/\n",
        "                                          - https://github.com/flecue/xai-aaai2021"
      ]
    },
    {
      "cell_type": "code",
      "metadata": {
        "id": "F1op-CbyLuN4",
        "colab": {
          "base_uri": "https://localhost:8080/"
        },
        "outputId": "a1a759db-92f0-4d97-a5da-6b5e5e72ae89"
      },
      "source": [
        "# Install required packages.\n",
        "!pip install -q torch-scatter -f https://pytorch-geometric.com/whl/torch-1.7.0+cu101.html\n",
        "!pip install -q torch-sparse -f https://pytorch-geometric.com/whl/torch-1.7.0+cu101.html\n",
        "!pip install -q torch-geometric\n",
        "!pip install -q captum\n",
        "\n",
        "# Helper function for visualization.\n",
        "%matplotlib inline\n",
        "import matplotlib.pyplot as plt"
      ],
      "execution_count": 1,
      "outputs": [
        {
          "output_type": "stream",
          "text": [
            "\u001b[K     |████████████████████████████████| 11.9MB 303kB/s \n",
            "\u001b[K     |████████████████████████████████| 24.3MB 1.3MB/s \n",
            "\u001b[K     |████████████████████████████████| 194kB 4.9MB/s \n",
            "\u001b[K     |████████████████████████████████| 235kB 8.8MB/s \n",
            "\u001b[K     |████████████████████████████████| 2.2MB 9.0MB/s \n",
            "\u001b[K     |████████████████████████████████| 51kB 5.1MB/s \n",
            "\u001b[?25h  Building wheel for torch-geometric (setup.py) ... \u001b[?25l\u001b[?25hdone\n",
            "\u001b[K     |████████████████████████████████| 5.7MB 4.8MB/s \n",
            "\u001b[?25h"
          ],
          "name": "stdout"
        }
      ]
    },
    {
      "cell_type": "markdown",
      "metadata": {
        "id": "nMTL0kk0seBw"
      },
      "source": [
        "# Explaining GNN Model Predictions using Captum\n",
        "\n",
        "In this tutorial we demonstrate how to apply feature attribution methods to graphs. Specifically, we try to find the most important edges for each instance prediction.  \n",
        "\n",
        "We use the Mutagenicity dataset from [TUDatasets](https://chrsmrrs.github.io/datasets/). This dataset consists of 4337 molecule graphs where the task is to predict the molecule mutagenicity."
      ]
    },
    {
      "cell_type": "markdown",
      "metadata": {
        "id": "mJtgD2A1uJAa"
      },
      "source": [
        "## Loading the dataset\n",
        "\n",
        "We load the dataset and use 10% of the data as the test split."
      ]
    },
    {
      "cell_type": "code",
      "metadata": {
        "id": "SE2iREv4q2dL",
        "colab": {
          "base_uri": "https://localhost:8080/"
        },
        "outputId": "0cd04fb0-8659-4393-c079-f200baace518"
      },
      "source": [
        "from torch_geometric.data import DataLoader\n",
        "from torch_geometric.datasets import TUDataset\n",
        "\n",
        "path = '.'\n",
        "dataset = TUDataset(path, name='Mutagenicity').shuffle()\n",
        "test_dataset = dataset[:len(dataset) // 10]\n",
        "train_dataset = dataset[len(dataset) // 10:]\n",
        "test_loader = DataLoader(test_dataset, batch_size=128)\n",
        "train_loader = DataLoader(train_dataset, batch_size=128)"
      ],
      "execution_count": 2,
      "outputs": [
        {
          "output_type": "stream",
          "text": [
            "Downloading https://www.chrsmrrs.com/graphkerneldatasets/Mutagenicity.zip\n",
            "Extracting ./Mutagenicity/Mutagenicity.zip\n",
            "Processing...\n",
            "Done!\n"
          ],
          "name": "stdout"
        }
      ]
    },
    {
      "cell_type": "markdown",
      "metadata": {
        "id": "g35SSQ3oukNM"
      },
      "source": [
        "## Visualizing the data\n",
        "\n",
        "We define some utility functions for visualizing the molecules and draw a random molecule."
      ]
    },
    {
      "cell_type": "code",
      "metadata": {
        "id": "9Hh3YNASuYxm"
      },
      "source": [
        "import networkx as nx\n",
        "import numpy as np\n",
        "\n",
        "from torch_geometric.utils import to_networkx\n",
        "\n",
        "\n",
        "def draw_molecule(g, edge_mask=None, draw_edge_labels=False):\n",
        "    g = g.copy().to_undirected()\n",
        "    node_labels = {}\n",
        "    for u, data in g.nodes(data=True):\n",
        "        node_labels[u] = data['name']\n",
        "    pos = nx.planar_layout(g)\n",
        "    pos = nx.spring_layout(g, pos=pos)\n",
        "    if edge_mask is None:\n",
        "        edge_color = 'black'\n",
        "        widths = None\n",
        "    else:\n",
        "        edge_color = [edge_mask[(u, v)] for u, v in g.edges()]\n",
        "        widths = [x * 10 for x in edge_color]\n",
        "    nx.draw(g, pos=pos, labels=node_labels, width=widths,\n",
        "            edge_color=edge_color, edge_cmap=plt.cm.Blues,\n",
        "            node_color='azure')\n",
        "    \n",
        "    if draw_edge_labels and edge_mask is not None:\n",
        "        edge_labels = {k: ('%.2f' % v) for k, v in edge_mask.items()}    \n",
        "        nx.draw_networkx_edge_labels(g, pos, edge_labels=edge_labels,\n",
        "                                    font_color='red')\n",
        "    plt.show()\n",
        "\n",
        "\n",
        "def to_molecule(data):\n",
        "    ATOM_MAP = ['C', 'O', 'Cl', 'H', 'N', 'F',\n",
        "                'Br', 'S', 'P', 'I', 'Na', 'K', 'Li', 'Ca']\n",
        "    g = to_networkx(data, node_attrs=['x'])\n",
        "    for u, data in g.nodes(data=True):\n",
        "        data['name'] = ATOM_MAP[data['x'].index(1.0)]\n",
        "        del data['x']\n",
        "    return g\n"
      ],
      "execution_count": 3,
      "outputs": []
    },
    {
      "cell_type": "markdown",
      "metadata": {
        "id": "cJ3JuTH1vV1V"
      },
      "source": [
        "## Sample visualization\n",
        "\n",
        "We sample a single molecule from train_dataset and visualize it"
      ]
    },
    {
      "cell_type": "code",
      "metadata": {
        "id": "4Z2uE7zVuhXU",
        "colab": {
          "base_uri": "https://localhost:8080/",
          "height": 391
        },
        "outputId": "d70d3c3d-ea1c-4178-81d6-d5fa9b38928e"
      },
      "source": [
        "import random\n",
        "\n",
        "data = random.choice([t for t in train_dataset])\n",
        "mol = to_molecule(data)\n",
        "plt.figure(figsize=(10, 5))\n",
        "draw_molecule(mol)"
      ],
      "execution_count": 4,
      "outputs": [
        {
          "output_type": "display_data",
          "data": {
            "image/png": "[encoded data removed]",
            "text/plain": [
              "<Figure size 720x360 with 1 Axes>"
            ]
          },
          "metadata": {
            "tags": []
          }
        }
      ]
    },
    {
      "cell_type": "markdown",
      "metadata": {
        "id": "6kZo9g1hwCGG"
      },
      "source": [
        "## Training the model\n",
        "\n",
        "In the next section, we train a GNN model with 5 convolution layers. We use GraphConv which supports `edge_weight` as a parameter. Many convolution layers in Pytorch Geometric supoort this argument."
      ]
    },
    {
      "cell_type": "markdown",
      "metadata": {
        "id": "GBVIOfMCCHAb"
      },
      "source": [
        "### Define the model"
      ]
    },
    {
      "cell_type": "code",
      "metadata": {
        "id": "iI1qpFUhrA2p"
      },
      "source": [
        "import torch\n",
        "import torch.nn.functional as F\n",
        "from torch.nn import Linear\n",
        "\n",
        "from torch_geometric.nn import global_add_pool, GraphConv\n",
        "\n",
        "class Net(torch.nn.Module):\n",
        "    def __init__(self, dim):\n",
        "        super(Net, self).__init__()\n",
        "\n",
        "        num_features = dataset.num_features\n",
        "        self.dim = dim\n",
        "\n",
        "        self.conv1 = GraphConv(num_features, dim)\n",
        "        self.conv2 = GraphConv(dim, dim)\n",
        "        self.conv3 = GraphConv(dim, dim)\n",
        "        self.conv4 = GraphConv(dim, dim)\n",
        "        self.conv5 = GraphConv(dim, dim)\n",
        "\n",
        "        self.fc1 = Linear(dim, dim)\n",
        "        self.fc2 = Linear(dim, dataset.num_classes)\n",
        "\n",
        "    def forward(self, x, edge_index, batch, edge_weight=None):\n",
        "        x = F.relu(self.conv1(x, edge_index, edge_weight))\n",
        "        x = F.relu(self.conv2(x, edge_index, edge_weight))\n",
        "        x = F.relu(self.conv3(x, edge_index, edge_weight))\n",
        "        x = F.relu(self.conv4(x, edge_index, edge_weight))\n",
        "        x = F.relu(self.conv5(x, edge_index, edge_weight))\n",
        "        x = global_add_pool(x, batch)\n",
        "        x = F.relu(self.fc1(x))\n",
        "        x = F.dropout(x, p=0.5, training=self.training)\n",
        "        x = self.fc2(x)\n",
        "        return F.log_softmax(x, dim=-1)\n"
      ],
      "execution_count": 5,
      "outputs": []
    },
    {
      "cell_type": "markdown",
      "metadata": {
        "id": "L3WOZ40OCKO5"
      },
      "source": [
        "### Define train and test functions"
      ]
    },
    {
      "cell_type": "code",
      "metadata": {
        "id": "ExNsODp3rKjN"
      },
      "source": [
        "def train(epoch):\n",
        "    model.train()\n",
        "\n",
        "    if epoch == 51:\n",
        "        for param_group in optimizer.param_groups:\n",
        "            param_group['lr'] = 0.5 * param_group['lr']\n",
        "\n",
        "    loss_all = 0\n",
        "    for data in train_loader:\n",
        "        data = data.to(device)\n",
        "        optimizer.zero_grad()\n",
        "        output = model(data.x, data.edge_index, data.batch)\n",
        "        loss = F.nll_loss(output, data.y)\n",
        "        loss.backward()\n",
        "        loss_all += loss.item() * data.num_graphs\n",
        "        optimizer.step()\n",
        "    return loss_all / len(train_dataset)\n",
        "\n",
        "\n",
        "def test(loader):\n",
        "    model.eval()\n",
        "\n",
        "    correct = 0\n",
        "    for data in loader:\n",
        "        data = data.to(device)\n",
        "        output = model(data.x, data.edge_index, data.batch)\n",
        "        pred = output.max(dim=1)[1]\n",
        "        correct += pred.eq(data.y).sum().item()\n",
        "    return correct / len(loader.dataset)"
      ],
      "execution_count": 6,
      "outputs": []
    },
    {
      "cell_type": "markdown",
      "metadata": {
        "id": "rsv9CQ6hCNMI"
      },
      "source": [
        "### Train the model for 100 epochs\n",
        "\n",
        "The accuracy should be around 80% in the end"
      ]
    },
    {
      "cell_type": "code",
      "metadata": {
        "id": "4imSoTlMrQdN",
        "colab": {
          "base_uri": "https://localhost:8080/"
        },
        "outputId": "1e212bf2-0a26-4d2b-bfa7-94b354813457"
      },
      "source": [
        "device = torch.device('cuda' if torch.cuda.is_available() else 'cpu')\n",
        "model = Net(dim=32).to(device)\n",
        "optimizer = torch.optim.Adam(model.parameters(), lr=0.001)\n",
        "\n",
        "for epoch in range(1, 101):\n",
        "    train_loss = train(epoch)\n",
        "    train_acc = test(train_loader)\n",
        "    test_acc = test(test_loader)\n",
        "    print('Epoch: {:03d}, Train Loss: {:.7f}, '\n",
        "          'Train Acc: {:.7f}, Test Acc: {:.7f}'.format(epoch, train_loss,\n",
        "                                                       train_acc, test_acc))\n"
      ],
      "execution_count": 7,
      "outputs": [
        {
          "output_type": "stream",
          "text": [
            "Epoch: 001, Train Loss: 0.7303891, Train Acc: 0.5599385, Test Acc: 0.5981524\n",
            "Epoch: 002, Train Loss: 0.6454250, Train Acc: 0.6744365, Test Acc: 0.6812933\n",
            "Epoch: 003, Train Loss: 0.6151900, Train Acc: 0.6849385, Test Acc: 0.7043880\n",
            "Epoch: 004, Train Loss: 0.5949176, Train Acc: 0.6967213, Test Acc: 0.7113164\n",
            "Epoch: 005, Train Loss: 0.5832729, Train Acc: 0.7172131, Test Acc: 0.7551963\n",
            "Epoch: 006, Train Loss: 0.5676360, Train Acc: 0.7400102, Test Acc: 0.7528868\n",
            "Epoch: 007, Train Loss: 0.5539104, Train Acc: 0.7456455, Test Acc: 0.7321016\n",
            "Epoch: 008, Train Loss: 0.5513697, Train Acc: 0.7397541, Test Acc: 0.7598152\n",
            "Epoch: 009, Train Loss: 0.5355421, Train Acc: 0.7640881, Test Acc: 0.7644342\n",
            "Epoch: 010, Train Loss: 0.5245275, Train Acc: 0.7589652, Test Acc: 0.7644342\n",
            "Epoch: 011, Train Loss: 0.5191373, Train Acc: 0.7602459, Test Acc: 0.7367206\n",
            "Epoch: 012, Train Loss: 0.5124330, Train Acc: 0.7689549, Test Acc: 0.7459584\n",
            "Epoch: 013, Train Loss: 0.5036816, Train Acc: 0.7832992, Test Acc: 0.7528868\n",
            "Epoch: 014, Train Loss: 0.4946156, Train Acc: 0.7825307, Test Acc: 0.7575058\n",
            "Epoch: 015, Train Loss: 0.4806817, Train Acc: 0.7891906, Test Acc: 0.7806005\n",
            "Epoch: 016, Train Loss: 0.4792583, Train Acc: 0.7948258, Test Acc: 0.7782910\n",
            "Epoch: 017, Train Loss: 0.4672640, Train Acc: 0.7827869, Test Acc: 0.7806005\n",
            "Epoch: 018, Train Loss: 0.4806765, Train Acc: 0.8063525, Test Acc: 0.7829099\n",
            "Epoch: 019, Train Loss: 0.4583377, Train Acc: 0.7879098, Test Acc: 0.7829099\n",
            "Epoch: 020, Train Loss: 0.4659859, Train Acc: 0.8117316, Test Acc: 0.8175520\n",
            "Epoch: 021, Train Loss: 0.4471869, Train Acc: 0.8073770, Test Acc: 0.7990762\n",
            "Epoch: 022, Train Loss: 0.4435291, Train Acc: 0.8148053, Test Acc: 0.8013857\n",
            "Epoch: 023, Train Loss: 0.4459446, Train Acc: 0.8045594, Test Acc: 0.8013857\n",
            "Epoch: 024, Train Loss: 0.4483247, Train Acc: 0.8255635, Test Acc: 0.8106236\n",
            "Epoch: 025, Train Loss: 0.4384234, Train Acc: 0.8019980, Test Acc: 0.7921478\n",
            "Epoch: 026, Train Loss: 0.4487010, Train Acc: 0.8068648, Test Acc: 0.8060046\n",
            "Epoch: 027, Train Loss: 0.4510871, Train Acc: 0.8194160, Test Acc: 0.8106236\n",
            "Epoch: 028, Train Loss: 0.4341000, Train Acc: 0.8319672, Test Acc: 0.8152425\n",
            "Epoch: 029, Train Loss: 0.4267317, Train Acc: 0.8317111, Test Acc: 0.8036952\n",
            "Epoch: 030, Train Loss: 0.4204549, Train Acc: 0.8201844, Test Acc: 0.8221709\n",
            "Epoch: 031, Train Loss: 0.4262646, Train Acc: 0.8383709, Test Acc: 0.8221709\n",
            "Epoch: 032, Train Loss: 0.4107355, Train Acc: 0.8370902, Test Acc: 0.8198614\n",
            "Epoch: 033, Train Loss: 0.4139778, Train Acc: 0.8286373, Test Acc: 0.8083141\n",
            "Epoch: 034, Train Loss: 0.4167232, Train Acc: 0.8399078, Test Acc: 0.8129330\n",
            "Epoch: 035, Train Loss: 0.4061144, Train Acc: 0.8460553, Test Acc: 0.8106236\n",
            "Epoch: 036, Train Loss: 0.4099898, Train Acc: 0.8386270, Test Acc: 0.7898383\n",
            "Epoch: 037, Train Loss: 0.4084308, Train Acc: 0.8488730, Test Acc: 0.7944573\n",
            "Epoch: 038, Train Loss: 0.3968850, Train Acc: 0.8463115, Test Acc: 0.8060046\n",
            "Epoch: 039, Train Loss: 0.3991018, Train Acc: 0.8473361, Test Acc: 0.8221709\n",
            "Epoch: 040, Train Loss: 0.3995040, Train Acc: 0.8463115, Test Acc: 0.8013857\n",
            "Epoch: 041, Train Loss: 0.3878399, Train Acc: 0.8486168, Test Acc: 0.8036952\n",
            "Epoch: 042, Train Loss: 0.3900146, Train Acc: 0.8488730, Test Acc: 0.8083141\n",
            "Epoch: 043, Train Loss: 0.3829456, Train Acc: 0.8504098, Test Acc: 0.7990762\n",
            "Epoch: 044, Train Loss: 0.3871720, Train Acc: 0.8455430, Test Acc: 0.8290993\n",
            "Epoch: 045, Train Loss: 0.3827451, Train Acc: 0.8473361, Test Acc: 0.8290993\n",
            "Epoch: 046, Train Loss: 0.3799670, Train Acc: 0.8542520, Test Acc: 0.8013857\n",
            "Epoch: 047, Train Loss: 0.3807285, Train Acc: 0.8537398, Test Acc: 0.8290993\n",
            "Epoch: 048, Train Loss: 0.3692617, Train Acc: 0.8498975, Test Acc: 0.8198614\n",
            "Epoch: 049, Train Loss: 0.3885308, Train Acc: 0.8552766, Test Acc: 0.8036952\n",
            "Epoch: 050, Train Loss: 0.3811031, Train Acc: 0.8583504, Test Acc: 0.8106236\n",
            "Epoch: 051, Train Loss: 0.3558292, Train Acc: 0.8598873, Test Acc: 0.8036952\n",
            "Epoch: 052, Train Loss: 0.3599307, Train Acc: 0.8509221, Test Acc: 0.8083141\n",
            "Epoch: 053, Train Loss: 0.3571813, Train Acc: 0.8583504, Test Acc: 0.7967667\n",
            "Epoch: 054, Train Loss: 0.3519891, Train Acc: 0.8496414, Test Acc: 0.8060046\n",
            "Epoch: 055, Train Loss: 0.3490833, Train Acc: 0.8650102, Test Acc: 0.8036952\n",
            "Epoch: 056, Train Loss: 0.3433598, Train Acc: 0.8596311, Test Acc: 0.7990762\n",
            "Epoch: 057, Train Loss: 0.3431663, Train Acc: 0.8591189, Test Acc: 0.8083141\n",
            "Epoch: 058, Train Loss: 0.3433363, Train Acc: 0.8629611, Test Acc: 0.8060046\n",
            "Epoch: 059, Train Loss: 0.3429137, Train Acc: 0.8606557, Test Acc: 0.7944573\n",
            "Epoch: 060, Train Loss: 0.3367431, Train Acc: 0.8619365, Test Acc: 0.8013857\n",
            "Epoch: 061, Train Loss: 0.3358302, Train Acc: 0.8557889, Test Acc: 0.7990762\n",
            "Epoch: 062, Train Loss: 0.3399933, Train Acc: 0.8547643, Test Acc: 0.7875289\n",
            "Epoch: 063, Train Loss: 0.3407133, Train Acc: 0.8547643, Test Acc: 0.8036952\n",
            "Epoch: 064, Train Loss: 0.3349124, Train Acc: 0.8586066, Test Acc: 0.8106236\n",
            "Epoch: 065, Train Loss: 0.3332330, Train Acc: 0.8601434, Test Acc: 0.7967667\n",
            "Epoch: 066, Train Loss: 0.3300838, Train Acc: 0.8545082, Test Acc: 0.7921478\n",
            "Epoch: 067, Train Loss: 0.3360746, Train Acc: 0.8614242, Test Acc: 0.8013857\n",
            "Epoch: 068, Train Loss: 0.3233040, Train Acc: 0.8539959, Test Acc: 0.7898383\n",
            "Epoch: 069, Train Loss: 0.3332895, Train Acc: 0.8634734, Test Acc: 0.7944573\n",
            "Epoch: 070, Train Loss: 0.3354514, Train Acc: 0.8624488, Test Acc: 0.7990762\n",
            "Epoch: 071, Train Loss: 0.3260359, Train Acc: 0.8606557, Test Acc: 0.7898383\n",
            "Epoch: 072, Train Loss: 0.3250082, Train Acc: 0.8575820, Test Acc: 0.7921478\n",
            "Epoch: 073, Train Loss: 0.3217451, Train Acc: 0.8691086, Test Acc: 0.7967667\n",
            "Epoch: 074, Train Loss: 0.3171079, Train Acc: 0.8642418, Test Acc: 0.7921478\n",
            "Epoch: 075, Train Loss: 0.3237010, Train Acc: 0.8696209, Test Acc: 0.7967667\n",
            "Epoch: 076, Train Loss: 0.3197003, Train Acc: 0.8642418, Test Acc: 0.7875289\n",
            "Epoch: 077, Train Loss: 0.3210958, Train Acc: 0.8693648, Test Acc: 0.7898383\n",
            "Epoch: 078, Train Loss: 0.3192286, Train Acc: 0.8511783, Test Acc: 0.7829099\n",
            "Epoch: 079, Train Loss: 0.3191521, Train Acc: 0.8650102, Test Acc: 0.7921478\n",
            "Epoch: 080, Train Loss: 0.3163263, Train Acc: 0.8696209, Test Acc: 0.7852194\n",
            "Epoch: 081, Train Loss: 0.3147048, Train Acc: 0.8644980, Test Acc: 0.7898383\n",
            "Epoch: 082, Train Loss: 0.3144836, Train Acc: 0.8729508, Test Acc: 0.7967667\n",
            "Epoch: 083, Train Loss: 0.3091379, Train Acc: 0.8701332, Test Acc: 0.7921478\n",
            "Epoch: 084, Train Loss: 0.3145468, Train Acc: 0.8706455, Test Acc: 0.7875289\n",
            "Epoch: 085, Train Loss: 0.3227384, Train Acc: 0.8755123, Test Acc: 0.7967667\n",
            "Epoch: 086, Train Loss: 0.3046855, Train Acc: 0.8744877, Test Acc: 0.7967667\n",
            "Epoch: 087, Train Loss: 0.3020910, Train Acc: 0.8755123, Test Acc: 0.7898383\n",
            "Epoch: 088, Train Loss: 0.3082501, Train Acc: 0.8765369, Test Acc: 0.7829099\n",
            "Epoch: 089, Train Loss: 0.3041334, Train Acc: 0.8747439, Test Acc: 0.7875289\n",
            "Epoch: 090, Train Loss: 0.3142954, Train Acc: 0.8785861, Test Acc: 0.7967667\n",
            "Epoch: 091, Train Loss: 0.3402757, Train Acc: 0.8668033, Test Acc: 0.7875289\n",
            "Epoch: 092, Train Loss: 0.3174466, Train Acc: 0.8709016, Test Acc: 0.8060046\n",
            "Epoch: 093, Train Loss: 0.3071190, Train Acc: 0.8803791, Test Acc: 0.7967667\n",
            "Epoch: 094, Train Loss: 0.3088477, Train Acc: 0.8831967, Test Acc: 0.7921478\n",
            "Epoch: 095, Train Loss: 0.2989207, Train Acc: 0.8837090, Test Acc: 0.7944573\n",
            "Epoch: 096, Train Loss: 0.3078614, Train Acc: 0.8744877, Test Acc: 0.7990762\n",
            "Epoch: 097, Train Loss: 0.2996307, Train Acc: 0.8893443, Test Acc: 0.7990762\n",
            "Epoch: 098, Train Loss: 0.2982895, Train Acc: 0.8839652, Test Acc: 0.8013857\n",
            "Epoch: 099, Train Loss: 0.2919719, Train Acc: 0.8806352, Test Acc: 0.8013857\n",
            "Epoch: 100, Train Loss: 0.2985772, Train Acc: 0.8816598, Test Acc: 0.8013857\n"
          ],
          "name": "stdout"
        }
      ]
    },
    {
      "cell_type": "markdown",
      "metadata": {
        "id": "PzX9xwFxCTff"
      },
      "source": [
        "## Explaining the predictions\n",
        "\n",
        "Now we look at two popular attribution methods. First, we calculate the gradient of the output with respect to the edge weights $w_{e_i}$. Edge weights are initially one for all edges.\n",
        "For the saliency method, we use the absolute value of the gradient as the attribution value for each edge:\n",
        "\n",
        "$$\n",
        "Attribution_{e_i} = |\\frac{\\partial F(x)}{\\partial w_{e_i}}|\n",
        "$$\n",
        "\n",
        "Where $x$ is the input and $F(x)$ is the output of the GNN model on input $x$.\n",
        "\n",
        "For Integrated Gradients method, we interpolate between the current input and a baseline input where the weight of all edges is zero and accumulate the gradient values for each edge:\n",
        "\n",
        "$$\n",
        "Attribution_{e_i} = \\int_{\\alpha =0}^1 \\frac{\\partial F(x_{\\alpha)}}{\\partial w_{e_i}} d\\alpha\n",
        "$$\n",
        "\n",
        "Where $x_{\\alpha}$ is the same as the original input graph but the weight of all edges is set to $\\alpha$. Integrated Gradients complete formulation is more complicated but since our initial edge weights are equal to one and the baseline is zero, it can be simplified to the formulation above. You can read more about this method [here](https://arxiv.org/abs/1703.01365). Of course, this can not be calculated directly and is approximated by a discrete sum.\n",
        "\n",
        "We use the [captum](https://captum.ai/) library for calculating the attribution values. We define the `model_forward` function which calculates the `batch` argument assuming that we are only explaining a single graph at a time.\n",
        "\n"
      ]
    },
    {
      "cell_type": "code",
      "metadata": {
        "id": "Wz6B1NgorzAX"
      },
      "source": [
        "from captum.attr import Saliency, IntegratedGradients\n",
        "\n",
        "def model_forward(edge_mask, data):\n",
        "    batch = torch.zeros(data.x.shape[0], dtype=int).to(device)\n",
        "    out = model(data.x, data.edge_index, batch, edge_mask)\n",
        "    return out\n",
        "\n",
        "\n",
        "def explain(method, data, target=0):\n",
        "    input_mask = torch.ones(data.edge_index.shape[1]).requires_grad_(True).to(device)\n",
        "    if method == 'ig':\n",
        "        ig = IntegratedGradients(model_forward)\n",
        "        mask = ig.attribute(input_mask, target=target,\n",
        "                            additional_forward_args=(data,),\n",
        "                            internal_batch_size=data.edge_index.shape[1])\n",
        "    elif method == 'saliency':\n",
        "        saliency = Saliency(model_forward)\n",
        "        mask = saliency.attribute(input_mask, target=target,\n",
        "                                  additional_forward_args=(data,))\n",
        "    else:\n",
        "        raise Exception('Unknown explanation method')\n",
        "\n",
        "    edge_mask = np.abs(mask.cpu().detach().numpy())\n",
        "    if edge_mask.max() > 0:  # avoid division by zero\n",
        "        edge_mask = edge_mask / edge_mask.max()\n",
        "    return edge_mask"
      ],
      "execution_count": 8,
      "outputs": []
    },
    {
      "cell_type": "markdown",
      "metadata": {
        "id": "0FPGLRtSFacR"
      },
      "source": [
        "Finally we take a random sample from the test dataset and run the explanation methods. For a simpler visualization, we make the graph undirected and merge the explanations of each edge in both directions.\n",
        "\n",
        "It is known that NO2 substructure makes the molecules mutagenic in many cases and you can verify this by the model explanations.\n",
        "\n",
        "Mutagenic molecules have label 0 in this dataset and we only sample from those molecules but you can change the code and see the explanations for the other class as well.\n",
        "\n",
        "In this visualization, edge colors and thickness represent the importance. You can also see the numeric value by passing `draw_edge_labels` to `draw_molecule` function.\n",
        "\n",
        "As you can see Integrated Gradients tend to create more accurate explanations."
      ]
    },
    {
      "cell_type": "code",
      "metadata": {
        "id": "Z1mJVbKorh5y",
        "colab": {
          "base_uri": "https://localhost:8080/",
          "height": 621
        },
        "outputId": "6485a83f-c7d4-4f4a-99ad-86b4318f742b"
      },
      "source": [
        "import random\n",
        "from collections import defaultdict\n",
        "\n",
        "def aggregate_edge_directions(edge_mask, data):\n",
        "    edge_mask_dict = defaultdict(float)\n",
        "    for val, u, v in list(zip(edge_mask, *data.edge_index)):\n",
        "        u, v = u.item(), v.item()\n",
        "        if u > v:\n",
        "            u, v = v, u\n",
        "        edge_mask_dict[(u, v)] += val\n",
        "    return edge_mask_dict\n",
        "    \n",
        "\n",
        "data = random.choice([t for t in test_dataset if not t.y.item()])\n",
        "mol = to_molecule(data)\n",
        "\n",
        "for title, method in [('Integrated Gradients', 'ig'), ('Saliency', 'saliency')]:\n",
        "    edge_mask = explain(method, data, target=0)\n",
        "    edge_mask_dict = aggregate_edge_directions(edge_mask, data)\n",
        "    plt.figure(figsize=(10, 5))\n",
        "    plt.title(title)\n",
        "    draw_molecule(mol, edge_mask_dict)"
      ],
      "execution_count": 9,
      "outputs": [
        {
          "output_type": "display_data",
          "data": {
            "image/png": "[encoded data removed]",
            "text/plain": [
              "<Figure size 720x360 with 1 Axes>"
            ]
          },
          "metadata": {
            "tags": []
          }
        },
        {
          "output_type": "display_data",
          "data": {
            "image/png": "[encoded data removed]",
            "text/plain": [
              "<Figure size 720x360 with 1 Axes>"
            ]
          },
          "metadata": {
            "tags": []
          }
        }
      ]
    }
  ]
}